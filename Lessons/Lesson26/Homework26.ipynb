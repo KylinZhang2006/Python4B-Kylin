{
  "nbformat": 4,
  "nbformat_minor": 0,
  "metadata": {
    "colab": {
      "provenance": []
    },
    "kernelspec": {
      "name": "python3",
      "display_name": "Python 3"
    },
    "language_info": {
      "name": "python"
    }
  },
  "cells": [
    {
      "cell_type": "markdown",
      "source": [
        "###2. Solve 2020 J5 using BFS with indexing (Score 15)"
      ],
      "metadata": {
        "id": "jG9eaPv67DKK"
      }
    },
    {
      "cell_type": "code",
      "execution_count": 1,
      "metadata": {
        "id": "pl_Z9me06wKm"
      },
      "outputs": [],
      "source": [
        "def factor(M,N,value):# it returns the real index of the jump-to cube in the lst\n",
        "  result = []\n",
        "  for factor1 in range(1, int(value**0.5) + 1): ### remember!!!!\n",
        "    if value % factor1 == 0:\n",
        "      factor2 = value // factor1\n",
        "      if factor1 <= M and factor2 <= N:\n",
        "        result.append([factor1 - 1, factor2 - 1])\n",
        "      if factor1 <= N and factor2 <= M:\n",
        "        result.append([factor2 - 1, factor1 - 1])\n",
        "  return result"
      ]
    },
    {
      "cell_type": "code",
      "source": [
        "M = int(input())\n",
        "N = int(input())\n",
        "table = []\n",
        "graph = {}\n",
        "for i in range(M):\n",
        "  s = input()\n",
        "  #list comprehension - when you want to run a for loop and store the results in a list\n",
        "  #syntax: newList = [ expression(element) for element in oldList if condition ]\n",
        "  line = []\n",
        "  for node in s.split():\n",
        "    value = int(node)\n",
        "    line.append(value)\n",
        "    graph[value] = factor(M,N,value) # construct the graph\n",
        "  table.append(line)\n",
        "print(graph)"
      ],
      "metadata": {
        "colab": {
          "base_uri": "https://localhost:8080/"
        },
        "id": "5O1cjqpWPLvm",
        "outputId": "aa6466b8-184a-4d9e-ec9b-75b21a90938f"
      },
      "execution_count": 2,
      "outputs": [
        {
          "output_type": "stream",
          "name": "stdout",
          "text": [
            "3\n",
            "4\n",
            "3 10 8 14\n",
            "1 11 12 12\n",
            "6 2 3 9\n",
            "{3: [[0, 2], [2, 0]], 10: [], 8: [[1, 3]], 14: [], 1: [[0, 0], [0, 0]], 11: [], 12: [[2, 3]], 6: [[1, 2], [2, 1]], 2: [[0, 1], [1, 0]], 9: [[2, 2], [2, 2]]}\n"
          ]
        }
      ]
    },
    {
      "cell_type": "code",
      "source": [
        "def bfs(root, end):\n",
        "  visited = []\n",
        "  queue = []\n",
        "  queue.append(root)\n",
        "\n",
        "  while queue:\n",
        "    head = queue.pop(0)\n",
        "    print(head)\n",
        "    if head == end:\n",
        "      print('yes')\n",
        "      return\n",
        "    for child in graph[table[head[0]][head[1]]]:\n",
        "      if child not in visited:\n",
        "        visited.append(head)\n",
        "        queue.append([child[0],child[1]])\n",
        "  print('no')\n",
        "bfs([0, 0], [M-1, N-1])"
      ],
      "metadata": {
        "id": "q-emg-bGP42R",
        "colab": {
          "base_uri": "https://localhost:8080/"
        },
        "outputId": "d52479fc-0856-4f89-8c01-2723bbd2a6ac"
      },
      "execution_count": 8,
      "outputs": [
        {
          "output_type": "stream",
          "name": "stdout",
          "text": [
            "[0, 0]\n",
            "[0, 2]\n",
            "[2, 0]\n",
            "[1, 3]\n",
            "[1, 2]\n",
            "[2, 1]\n",
            "[2, 3]\n",
            "yes\n"
          ]
        }
      ]
    },
    {
      "cell_type": "markdown",
      "source": [
        "Pay attention to what you append to the queue.\n",
        "Score: 10/15"
      ],
      "metadata": {
        "id": "F_BTbyH7T229"
      }
    },
    {
      "cell_type": "markdown",
      "source": [
        "### 3. CCC 2015 J1 and J2 (score 30)"
      ],
      "metadata": {
        "id": "X2vrsa4zl0dQ"
      }
    },
    {
      "cell_type": "markdown",
      "source": [
        "#### Problem J1: Special Day"
      ],
      "metadata": {
        "id": "j8rjRgww8RqW"
      }
    },
    {
      "cell_type": "code",
      "execution_count": null,
      "metadata": {
        "colab": {
          "base_uri": "https://localhost:8080/"
        },
        "id": "TtaEqgz78Jxg",
        "outputId": "2a12c1e2-3f02-442c-bd31-d5aaa5f91ec7"
      },
      "outputs": [
        {
          "output_type": "stream",
          "name": "stdout",
          "text": [
            "2\n",
            "18\n",
            "Special\n"
          ]
        }
      ],
      "source": [
        "m = int(input())\n",
        "d = int(input())\n",
        "\n",
        "if m < 2 and d < 18:\n",
        "  print(\"Before\")\n",
        "elif m > 2 and d > 18:\n",
        "  print(\"After\")\n",
        "else:\n",
        "  print(\"Special\")"
      ]
    },
    {
      "cell_type": "markdown",
      "source": [
        "Excellent!\n",
        "\n",
        "Score: 15/15"
      ],
      "metadata": {
        "id": "00TNB6CoT-u2"
      }
    },
    {
      "cell_type": "markdown",
      "source": [
        "#### Problem J2: Happy or Sad"
      ],
      "metadata": {
        "id": "UVZOooWp9E6w"
      }
    },
    {
      "cell_type": "code",
      "source": [
        "s = input()\n",
        "happy_count = s.count(\":-)\")\n",
        "sad_count = s.count(\":-(\")\n",
        "\n",
        "if happy_count == 0 and sad_count == 0:\n",
        "  print(\"none\")\n",
        "elif happy_count > sad_count:\n",
        "  print(\"happy\")\n",
        "elif happy_count < sad_count:\n",
        "  print(\"sad\")\n",
        "else:\n",
        "  print(\"unsure\")"
      ],
      "metadata": {
        "colab": {
          "base_uri": "https://localhost:8080/"
        },
        "id": "txLQnVQJ9IAt",
        "outputId": "326b441d-99d8-4404-961e-b332803026bc"
      },
      "execution_count": null,
      "outputs": [
        {
          "output_type": "stream",
          "name": "stdout",
          "text": [
            "This:-(is str:-(:-(ange te:-)xt.\n",
            "sad\n"
          ]
        }
      ]
    },
    {
      "cell_type": "markdown",
      "source": [
        "Excellent!\n",
        "\n",
        "Score: 15/15"
      ],
      "metadata": {
        "id": "ppju8N7LUB2g"
      }
    }
  ]
}