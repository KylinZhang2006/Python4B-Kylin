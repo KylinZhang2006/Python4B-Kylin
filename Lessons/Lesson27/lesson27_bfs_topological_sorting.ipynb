{
  "nbformat": 4,
  "nbformat_minor": 0,
  "metadata": {
    "colab": {
      "provenance": []
    },
    "kernelspec": {
      "name": "python3",
      "display_name": "Python 3"
    },
    "language_info": {
      "name": "python"
    }
  },
  "cells": [
    {
      "cell_type": "markdown",
      "source": [
        "https://www.geeksforgeeks.org/topological-sorting/"
      ],
      "metadata": {
        "id": "6M5h3LFLIEFt"
      }
    },
    {
      "cell_type": "code",
      "execution_count": 9,
      "metadata": {
        "colab": {
          "base_uri": "https://localhost:8080/"
        },
        "id": "Mtt9vlhcIA6i",
        "outputId": "72688c3c-4bc0-4cc7-d846-0170d80bf7bc"
      },
      "outputs": [
        {
          "output_type": "stream",
          "name": "stdout",
          "text": [
            "5\n",
            "4\n",
            "2\n",
            "0\n",
            "1\n",
            "3\n"
          ]
        }
      ],
      "source": [
        "class Graph:\n",
        "  def __init__(self, vertices):\n",
        "    self.graph = {}  # dictionary containing adjacency List\n",
        "    self.V = vertices  # No. of vertices\n",
        " \n",
        "  # function to add an edge to graph\n",
        "  def addEdge(self, u, v):\n",
        "    if u not in self.graph:\n",
        "      self.graph[u] = []\n",
        "    self.graph[u].append(v)\n",
        "\n",
        "def dfs(graph,sources):\n",
        "  queue = []\n",
        "  visited = []\n",
        "  for source in sources:\n",
        "    queue.append(source)\n",
        "    visited.append(source)\n",
        "\n",
        "  while queue:\n",
        "    head = queue.pop(0)\n",
        "    print(head)\n",
        "    if head in g.graph:\n",
        "      for child in g.graph[head]:\n",
        "        if child not in visited:\n",
        "          visited.append(child)\n",
        "          queue.append(child)\n",
        "\n",
        "g = Graph(6)\n",
        "g.addEdge(5, 2)\n",
        "g.addEdge(5, 0)\n",
        "g.addEdge(4, 0)\n",
        "g.addEdge(4, 1)\n",
        "g.addEdge(2, 3)\n",
        "g.addEdge(3, 1)\n",
        "g.graph \n",
        "dfs(g,[5,4])"
      ]
    },
    {
      "cell_type": "markdown",
      "source": [
        "### CCC 2021 J5"
      ],
      "metadata": {
        "id": "ZgkprwrNO0Qs"
      }
    },
    {
      "cell_type": "code",
      "source": [
        "M = int(input())\n",
        "N = int(input())\n",
        "K = int(input())\n",
        "table = []\n",
        "for i in range(M):\n",
        "  line = []\n",
        "  for j in range(N):\n",
        "    line.append(0)\n",
        "  table.append(line)\n",
        "\n",
        "\n",
        "for i in range(K):\n",
        "  s = input()\n",
        "  lst = s.split()\n",
        "  if lst[0] == \"R\":\n",
        "    for i in range(N):\n",
        "      table[int(lst[1])-1][i] += 1\n",
        "  else:\n",
        "    for row in table:\n",
        "      row[int(lst[1])-1] += 1\n",
        "\n",
        "count = 0\n",
        "for i in range(M):\n",
        "  for j in range(N):\n",
        "    if table[i][j] % 2 == 1:\n",
        "      count += 1\n",
        "print(table)\n",
        "print(count)"
      ],
      "metadata": {
        "colab": {
          "base_uri": "https://localhost:8080/"
        },
        "id": "iTBbph9gO3Hi",
        "outputId": "922e878e-3602-4b0b-b9e2-60aeb1c4efe2"
      },
      "execution_count": 18,
      "outputs": [
        {
          "output_type": "stream",
          "name": "stdout",
          "text": [
            "3\n",
            "4\n",
            "2\n",
            "R 1\n",
            "C 1\n",
            "[[2, 1, 1, 1], [1, 0, 0, 0], [1, 0, 0, 0]]\n",
            "5\n"
          ]
        }
      ]
    },
    {
      "cell_type": "markdown",
      "source": [
        "Solution of using 1d array:"
      ],
      "metadata": {
        "id": "J4dL2Ad4TTl6"
      }
    },
    {
      "cell_type": "code",
      "source": [
        "M = int(input())\n",
        "N = int(input())\n",
        "K = int(input())\n",
        "rows = [0]*M\n",
        "cols = [0]*N\n",
        "\n",
        "for i in range(K):\n",
        "    stroke = input().split()\n",
        "    direction = stroke[0]\n",
        "    index = int(stroke[1])-1\n",
        "   \n",
        "    if direction == 'R':\n",
        "        rows[index] += 1\n",
        "    else:\n",
        "        cols[index] += 1\n",
        "\n",
        "count = 0\n",
        "for i in range(M):\n",
        "    for j in range(N):\n",
        "        if (rows[i] + cols[j]) %2 == 1:\n",
        "            count += 1\n",
        "\n",
        "print(count)"
      ],
      "metadata": {
        "colab": {
          "base_uri": "https://localhost:8080/"
        },
        "id": "BwgcQ3AaTgug",
        "outputId": "c414f8e1-5b55-4dc3-968a-a8b804630ae6"
      },
      "execution_count": 19,
      "outputs": [
        {
          "output_type": "stream",
          "name": "stdout",
          "text": [
            "3\n",
            "3\n",
            "2\n",
            "R 1\n",
            "C 1\n",
            "4\n"
          ]
        }
      ]
    }
  ]
}