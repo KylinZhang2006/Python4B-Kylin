{
  "nbformat": 4,
  "nbformat_minor": 0,
  "metadata": {
    "colab": {
      "provenance": []
    },
    "kernelspec": {
      "name": "python3",
      "display_name": "Python 3"
    },
    "language_info": {
      "name": "python"
    }
  },
  "cells": [
    {
      "cell_type": "markdown",
      "source": [
        "# Matplotlib.pyplot"
      ],
      "metadata": {
        "id": "ZuU0Wchul889"
      }
    },
    {
      "cell_type": "markdown",
      "source": [
        "### Scatter"
      ],
      "metadata": {
        "id": "PUAIEJWJmBtk"
      }
    },
    {
      "cell_type": "code",
      "execution_count": 3,
      "metadata": {
        "colab": {
          "base_uri": "https://localhost:8080/",
          "height": 0
        },
        "id": "fdASzqdHl4NM",
        "outputId": "c1e7e10b-8d0b-4bf0-9030-85feac9ba67b"
      },
      "outputs": [
        {
          "output_type": "display_data",
          "data": {
            "text/plain": [
              "<Figure size 432x288 with 1 Axes>"
            ],
            "image/png": "[encoded data removed]"
          },
          "metadata": {
            "needs_background": "light"
          }
        }
      ],
      "source": [
        "import matplotlib.pyplot as plt\n",
        "import numpy as np\n",
        "\n",
        "x = np.array([5,6,7,8,9])\n",
        "y = np.array([99, 86, 93, 45, 67])\n",
        "\n",
        "plt.scatter(x, y)\n",
        "plt.show()"
      ]
    },
    {
      "cell_type": "code",
      "source": [
        "import matplotlib.pyplot as plt\n",
        "import numpy as np\n",
        "\n",
        "x1 = np.array([5,6,7,8,9])\n",
        "y1 = np.array([99, 86, 93, 45, 67])\n",
        "\n",
        "x2 = np.array([5,6,7,8,9])\n",
        "y2 = np.array([11,102,123,98,50])\n",
        "\n",
        "plt.scatter(x1, y1, color = 'hotpink')\n",
        "plt.scatter(x2, y2, color = 'purple')\n",
        "plt.show()"
      ],
      "metadata": {
        "colab": {
          "base_uri": "https://localhost:8080/",
          "height": 0
        },
        "id": "Fu20ywnzmnFL",
        "outputId": "2a92cd77-045f-41cb-c39e-53727f4e8382"
      },
      "execution_count": 5,
      "outputs": [
        {
          "output_type": "display_data",
          "data": {
            "text/plain": [
              "<Figure size 432x288 with 1 Axes>"
            ],
            "image/png": "[encoded data removed]"
          },
          "metadata": {
            "needs_background": "light"
          }
        }
      ]
    },
    {
      "cell_type": "code",
      "source": [
        "import matplotlib.pyplot as plt\n",
        "import numpy as np\n",
        "\n",
        "x = np.array([5,6,7,8,9])\n",
        "y = np.array([99, 86, 93, 45, 67])\n",
        "colors = np.array(['red', 'green', 'hotpink', 'yellow', 'brown'])\n",
        "sizes = np.array([20,100,20,300,90])\n",
        "\n",
        "plt.scatter(x, y, c = colors, s = sizes)\n",
        "plt.show()"
      ],
      "metadata": {
        "colab": {
          "base_uri": "https://localhost:8080/",
          "height": 0
        },
        "id": "m0mB7N25nDgI",
        "outputId": "f11d747c-ab69-45a7-9e45-c2a6acb36f78"
      },
      "execution_count": 11,
      "outputs": [
        {
          "output_type": "display_data",
          "data": {
            "text/plain": [
              "<Figure size 432x288 with 1 Axes>"
            ],
            "image/png": "[encoded data removed]"
          },
          "metadata": {
            "needs_background": "light"
          }
        }
      ]
    },
    {
      "cell_type": "markdown",
      "source": [
        "### Bars"
      ],
      "metadata": {
        "id": "pLwBB4PXnwMc"
      }
    },
    {
      "cell_type": "code",
      "source": [
        "import matplotlib.pyplot as plt\n",
        "import numpy as np\n",
        "\n",
        "x = np.array(['A','B','C','D','E'])\n",
        "y = np.array([99, 86, 93, 45, 67])\n",
        "\n",
        "plt.bar(x, y)\n",
        "plt.show()"
      ],
      "metadata": {
        "colab": {
          "base_uri": "https://localhost:8080/",
          "height": 265
        },
        "id": "mEh8J83tnyvq",
        "outputId": "1a5ca668-6a43-42bb-e1b8-5f66030be634"
      },
      "execution_count": 13,
      "outputs": [
        {
          "output_type": "display_data",
          "data": {
            "text/plain": [
              "<Figure size 432x288 with 1 Axes>"
            ],
            "image/png": "[encoded data removed]"
          },
          "metadata": {
            "needs_background": "light"
          }
        }
      ]
    },
    {
      "cell_type": "code",
      "source": [
        "import matplotlib.pyplot as plt\n",
        "import numpy as np\n",
        "\n",
        "x = np.array(['A','B','C','D','E'])\n",
        "y = np.array([99, 86, 93, 45, 67])\n",
        "\n",
        "plt.barh(x, y) # h - horizontal\n",
        "plt.show()"
      ],
      "metadata": {
        "colab": {
          "base_uri": "https://localhost:8080/",
          "height": 265
        },
        "id": "LUNfhR6doLml",
        "outputId": "9ce2a523-7e04-4c48-9528-f04c2e585103"
      },
      "execution_count": 14,
      "outputs": [
        {
          "output_type": "display_data",
          "data": {
            "text/plain": [
              "<Figure size 432x288 with 1 Axes>"
            ],
            "image/png": "[encoded data removed]"
          },
          "metadata": {
            "needs_background": "light"
          }
        }
      ]
    },
    {
      "cell_type": "code",
      "source": [
        "import matplotlib.pyplot as plt\n",
        "import numpy as np\n",
        "\n",
        "x = np.array(['A','B','C','D','E'])\n",
        "y = np.array([99, 86, 93, 45, 67])\n",
        "\n",
        "plt.bar(x, y, color = 'orange', width = 0.1)\n",
        "plt.show()"
      ],
      "metadata": {
        "colab": {
          "base_uri": "https://localhost:8080/",
          "height": 265
        },
        "id": "7eeqBoEEoTM0",
        "outputId": "bf342ae1-284b-4a0d-8e14-e67ccd6ae17d"
      },
      "execution_count": 16,
      "outputs": [
        {
          "output_type": "display_data",
          "data": {
            "text/plain": [
              "<Figure size 432x288 with 1 Axes>"
            ],
            "image/png": "[encoded data removed]"
          },
          "metadata": {
            "needs_background": "light"
          }
        }
      ]
    },
    {
      "cell_type": "code",
      "source": [
        "import matplotlib.pyplot as plt\n",
        "import numpy as np\n",
        "\n",
        "x = np.array(['A','B','C','D','E'])\n",
        "y = np.array([99, 86, 93, 45, 67])\n",
        "\n",
        "plt.barh(x, y, height = 0.1) # h - horizontal\n",
        "plt.show()"
      ],
      "metadata": {
        "colab": {
          "base_uri": "https://localhost:8080/",
          "height": 265
        },
        "id": "OAvH6uYHoiGL",
        "outputId": "d750c2aa-85b2-4421-86be-84ea7e3c6bc3"
      },
      "execution_count": 19,
      "outputs": [
        {
          "output_type": "display_data",
          "data": {
            "text/plain": [
              "<Figure size 432x288 with 1 Axes>"
            ],
            "image/png": "[encoded data removed]"
          },
          "metadata": {
            "needs_background": "light"
          }
        }
      ]
    },
    {
      "cell_type": "markdown",
      "source": [
        "### Histogram\n",
        "\n",
        "A graph shows the frequency distribution."
      ],
      "metadata": {
        "id": "-R5sPdcNortJ"
      }
    },
    {
      "cell_type": "code",
      "source": [
        "height = np.random.normal(170, 10, 250)\n",
        "\n",
        "plt.hist(height)\n",
        "plt.show()"
      ],
      "metadata": {
        "colab": {
          "base_uri": "https://localhost:8080/",
          "height": 265
        },
        "id": "HRL4AqsipO__",
        "outputId": "c3ebb081-95d2-452c-e90e-bcaa95a1306e"
      },
      "execution_count": 24,
      "outputs": [
        {
          "output_type": "display_data",
          "data": {
            "text/plain": [
              "<Figure size 432x288 with 1 Axes>"
            ],
            "image/png": "[encoded data removed]"
          },
          "metadata": {
            "needs_background": "light"
          }
        }
      ]
    },
    {
      "cell_type": "markdown",
      "source": [
        "### Pie"
      ],
      "metadata": {
        "id": "zWDAv8_yqeBM"
      }
    },
    {
      "cell_type": "code",
      "source": [
        "y = np.array([25,35,10,30])\n",
        "labels = np.array(['A', 'B', 'C','D'])\n",
        "explodes = [0.2, 0, 0, 0]\n",
        "\n",
        "plt.pie(y, labels = labels, explode = explodes)\n",
        "plt.legend(title = 'Four colors')\n",
        "\n",
        "plt.show()"
      ],
      "metadata": {
        "colab": {
          "base_uri": "https://localhost:8080/",
          "height": 248
        },
        "id": "aoilixGSqgbH",
        "outputId": "d3979302-5c9a-4136-aed3-bf112ceb3e3e"
      },
      "execution_count": 31,
      "outputs": [
        {
          "output_type": "display_data",
          "data": {
            "text/plain": [
              "<Figure size 432x288 with 1 Axes>"
            ],
            "image/png": "[encoded data removed]"
          },
          "metadata": {}
        }
      ]
    },
    {
      "cell_type": "markdown",
      "source": [],
      "metadata": {
        "id": "X1eoRHg6wCOL"
      }
    },
    {
      "cell_type": "markdown",
      "source": [
        "# CCC Questions"
      ],
      "metadata": {
        "id": "NDsgdnHJrmNW"
      }
    },
    {
      "cell_type": "markdown",
      "source": [
        "### Recursion\n",
        "\n",
        "Recursion is a process of defining something in terms of itself.\n",
        "\n",
        "In python, we can let a function call other functions. But, it's also possible that a function call itself!!"
      ],
      "metadata": {
        "id": "Bd3T5xyuv3_C"
      }
    },
    {
      "cell_type": "code",
      "source": [
        "N = int(input())\n",
        "\n",
        "result = 1\n",
        "for i in range(1, N + 1):\n",
        "  result *= i\n",
        "print(result)"
      ],
      "metadata": {
        "colab": {
          "base_uri": "https://localhost:8080/"
        },
        "id": "ObopAV1Gwp22",
        "outputId": "f380afdb-ff88-4f9e-a761-5696016ac56d"
      },
      "execution_count": 33,
      "outputs": [
        {
          "output_type": "stream",
          "name": "stdout",
          "text": [
            "3\n",
            "6\n"
          ]
        }
      ]
    },
    {
      "cell_type": "code",
      "source": [
        "def factorial(n): # assume n > 0\n",
        "  if n == 1: # base, recursion always has a base, This is when the recursion come to an end!\n",
        "    return 1\n",
        "  else:\n",
        "    return n*factorial(n-1)\n",
        "\n",
        "print(factorial(4))"
      ],
      "metadata": {
        "colab": {
          "base_uri": "https://localhost:8080/"
        },
        "id": "7Gk3FMttyglp",
        "outputId": "33c7b8e4-4887-47fb-cadd-cbb16c56b2aa"
      },
      "execution_count": 35,
      "outputs": [
        {
          "output_type": "stream",
          "name": "stdout",
          "text": [
            "24\n"
          ]
        }
      ]
    },
    {
      "cell_type": "markdown",
      "source": [
        "When we call factorial(4):\n",
        "\n",
        "4 * factorial(3) # 1st call\n",
        "\n",
        "4 * 3 * factorial(2) # 2nd call\n",
        "\n",
        "4 * 3 * 2 * factorial(1) # 3rd call\n",
        "\n",
        "4 * 3 * 2 * 1 return from the # 3rd call\n",
        "\n",
        "4 * 3 * 2 return from the # 2nd call\n",
        "\n",
        "4 * 6 return from the # 1st call\n",
        "\n",
        "24 return value"
      ],
      "metadata": {
        "id": "WiYTj6Jg0lSa"
      }
    },
    {
      "cell_type": "markdown",
      "source": [
        "Another example:\n",
        "\n",
        "Calculate the sum of a list."
      ],
      "metadata": {
        "id": "0SBa0Tzi1xZQ"
      }
    },
    {
      "cell_type": "code",
      "source": [
        "lst = [2,3,5,7,9]\n",
        "sum = 0\n",
        "for i in lst:\n",
        "  sum += i\n",
        "print(sum)"
      ],
      "metadata": {
        "colab": {
          "base_uri": "https://localhost:8080/"
        },
        "id": "1hIOImYv13I9",
        "outputId": "591e382b-ff4a-4ca5-f931-3a49b7e8df0e"
      },
      "execution_count": 36,
      "outputs": [
        {
          "output_type": "stream",
          "name": "stdout",
          "text": [
            "26\n"
          ]
        }
      ]
    },
    {
      "cell_type": "markdown",
      "source": [
        "when the len(lst) == 1, sum = lst[0]. # base\n",
        "\n",
        "else (len(lst) > 1), sum = lst[0] + sum(lst[1:])"
      ],
      "metadata": {
        "id": "iTI3-Srp2myI"
      }
    },
    {
      "cell_type": "code",
      "source": [
        "lst = [2,3,5,7,9]\n",
        "def sum_of_list(lst):\n",
        "  if len(lst) == 1:\n",
        "    return lst[0] # base\n",
        "  else:\n",
        "    return lst[0] + sum_of_list(lst[1:])\n",
        "print(sum_of_list(lst))"
      ],
      "metadata": {
        "colab": {
          "base_uri": "https://localhost:8080/"
        },
        "id": "86IRS8fP3b0m",
        "outputId": "fdcf8457-1bb3-4e4f-ffce-1ec25f1a3683"
      },
      "execution_count": 37,
      "outputs": [
        {
          "output_type": "stream",
          "name": "stdout",
          "text": [
            "26\n"
          ]
        }
      ]
    },
    {
      "cell_type": "markdown",
      "source": [
        "When we call sum_of_list([2,3,5,7,9]):\n",
        "\n",
        "2 + sum_of_list([3,5,7,9]) # 1st call\n",
        "\n",
        "2 + 3 + sum_of_list([5,7,9]) # 2ed call\n",
        "\n",
        "2 + 3 + 5 + sum_of_list([7,9]) # 3rd call\n",
        "\n",
        "2 + 3 + 5 + 7 + sum_of_list([9]) # 4th call\n",
        "\n",
        "2 + 3 + 5 + 7 + 9 return from the # 4th call\n",
        "\n",
        "2 + 3 + 5 + 16 return from the # 3rd call\n",
        "\n",
        "2 + 3 + 21 return from the # 2ed call\n",
        "\n",
        "2 + 24 return from the # 1st call\n",
        "\n",
        "26 return value\n"
      ],
      "metadata": {
        "id": "4UyMEjmH3-jo"
      }
    },
    {
      "cell_type": "markdown",
      "source": [
        "**Another Example:**\n",
        "\n",
        "Fibonacci sequence.\n",
        "\n",
        "e.g. 1,1,2,3,5,8,13,21,...\n",
        "\n",
        "fib(0) = 1 # base\n",
        "\n",
        "fib(1) = 1 # base\n",
        "\n",
        "fib(2) = 2 = fib(1) + fib(0)\n",
        "\n",
        "fib(3) = 3 = fib(2) + fib(1)\n",
        "\n",
        "fib(4) = 5 = fib(3) + fib(2)\n",
        "\n",
        "fib(5) = 8 = fib(4) + fib(3)"
      ],
      "metadata": {
        "id": "nCPQm7GV52IA"
      }
    },
    {
      "cell_type": "markdown",
      "source": [
        "Get fib(N).\n",
        "\n",
        "Steps of writing recursion:\n",
        "1.   find the base case\n",
        "2.   call itself as a sub-problem\n",
        "\n",
        "\n"
      ],
      "metadata": {
        "id": "mZ2zi7WW6x-P"
      }
    },
    {
      "cell_type": "code",
      "source": [
        "N = int(input())\n",
        "\n",
        "def fib(N):\n",
        "  if N == 1 or N == 0:\n",
        "    return 1\n",
        "  else:\n",
        "    return fib(N - 1) + fib(N - 2)\n",
        "\n",
        "print(fib(N))"
      ],
      "metadata": {
        "colab": {
          "base_uri": "https://localhost:8080/"
        },
        "id": "WWcBbLp47vTl",
        "outputId": "909826d9-7146-4ae8-b35d-f8e7f893e119"
      },
      "execution_count": 38,
      "outputs": [
        {
          "output_type": "stream",
          "name": "stdout",
          "text": [
            "6\n",
            "13\n"
          ]
        }
      ]
    }
  ]
}