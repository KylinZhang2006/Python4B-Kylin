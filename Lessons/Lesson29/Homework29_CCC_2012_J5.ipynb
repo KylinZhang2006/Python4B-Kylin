{
  "nbformat": 4,
  "nbformat_minor": 0,
  "metadata": {
    "colab": {
      "provenance": []
    },
    "kernelspec": {
      "name": "python3",
      "display_name": "Python 3"
    },
    "language_info": {
      "name": "python"
    }
  },
  "cells": [
    {
      "cell_type": "markdown",
      "source": [
        "### Problem J5: A Coin Game"
      ],
      "metadata": {
        "id": "gLT8_hT0p6xC"
      }
    },
    {
      "cell_type": "code",
      "execution_count": null,
      "metadata": {
        "id": "hJkK-f9Op4UF"
      },
      "outputs": [],
      "source": [
        "class Node:\n",
        "  def __init__(self, move, level):\n",
        "    self.move = move\n",
        "    self.level = level\n",
        "  def __str__(self):\n",
        "    return self.move[0] + \" \" + self.move[1] + \" \" + self.move[2]"
      ]
    },
    {
      "cell_type": "code",
      "source": [
        "def done(N, move):\n",
        "  i = 0\n",
        "  while i < N and move[i] == str(i + 1):\n",
        "    i = i + 1\n",
        "  return i == N\n",
        "\n",
        "def createMove(N, oldMove, p1, p2):\n",
        "  newMove = []\n",
        "  for i in range(N):\n",
        "    newMove.append(oldMove[i]) # copy\n",
        "  \n",
        "  newMove[p2] = newMove[p1][:1] + newMove[p2]\n",
        "  newMove[p1] = newMove[p1][1:]\n",
        "\n",
        "  return newMove\n",
        "\n",
        "def inTree(tree, move):\n",
        "  for node in tree:\n",
        "    if node.move == move:\n",
        "      return True\n",
        "  return False\n",
        "\n",
        "def bfs(N, initialMove):\n",
        "  if done(N, initialMove): # corner case\n",
        "    return 0\n",
        "  else:\n",
        "    tree = []\n",
        "    level = 0 # the current level\n",
        "    tree.append(Node(initialMove, 0)) # append the root node\n",
        "    while level != len(tree):\n",
        "      node = tree[level]\n",
        "      level += 1\n",
        "      for i in range(N):\n",
        "        # move right\n",
        "        if i != N - 1: # if it's not the right-most\n",
        "          if node.move[i][:1] < node.move[i + 1][:1] or len(node.move[i + 1]) == 0:\n",
        "            newMove = createMove(N, node.move, i, i + 1)\n",
        "            print(newMove)\n",
        "            if not inTree(tree, newMove):\n",
        "              tree.append(Node(newMove, node.level+1))\n",
        "              if done(N, newMove):\n",
        "                return node.level + 1\n",
        "        # move left\n",
        "        if i != 0: # if it's not the left-most\n",
        "          if node.move[i][:1] < node.move[i-1][:1] or len(node.move[i-1]) == 0:\n",
        "            newMove = createMove(N, node.move, i, i-1)\n",
        "            print(newMove)\n",
        "            if not inTree(tree, newMove):\n",
        "              tree.append(Node(newMove, node.level + 1))\n",
        "              if done(N, newMove):\n",
        "                return node.level + 1\n",
        "    return \"IMPOSSIBLE\"\n",
        "  "
      ],
      "metadata": {
        "id": "nHSTlHHd-XaB"
      },
      "execution_count": null,
      "outputs": []
    },
    {
      "cell_type": "code",
      "source": [
        "N = int(input())\n",
        "initialMove = input().split()\n",
        "bfs(N, initialMove)"
      ],
      "metadata": {
        "colab": {
          "base_uri": "https://localhost:8080/"
        },
        "id": "f87xfWL1A-_7",
        "outputId": "64f52fd4-7979-4a29-d604-d75dff39420f"
      },
      "execution_count": null,
      "outputs": [
        {
          "output_type": "stream",
          "name": "stdout",
          "text": [
            "3\n",
            "3 2 1\n",
            "['23', '', '1']\n",
            "['3', '12', '']\n",
            "['3', '2', '1']\n",
            "['23', '', '1']\n",
            "['23', '', '1']\n",
            "['23', '1', '']\n",
            "['3', '2', '1']\n",
            "['13', '2', '']\n",
            "['3', '12', '']\n",
            "['23', '', '1']\n",
            "['123', '', '']\n",
            "['23', '1', '']\n",
            "['3', '12', '']\n",
            "['13', '', '2']\n",
            "['13', '2', '']\n",
            "['23', '1', '']\n",
            "['123', '', '']\n",
            "['123', '', '']\n",
            "['123', '', '']\n",
            "['3', '1', '2']\n",
            "['13', '', '2']\n",
            "['13', '', '2']\n",
            "['13', '2', '']\n",
            "['3', '', '12']\n",
            "['13', '', '2']\n",
            "['', '3', '12']\n",
            "['3', '', '12']\n",
            "['3', '', '12']\n",
            "['3', '1', '2']\n",
            "['', '3', '12']\n",
            "['3', '', '12']\n",
            "['', '13', '2']\n",
            "['', '13', '2']\n",
            "['', '3', '12']\n",
            "['1', '3', '2']\n",
            "['', '13', '2']\n",
            "['1', '23', '']\n",
            "['', '123', '']\n",
            "['1', '3', '2']\n",
            "['1', '23', '']\n",
            "['', '123', '']\n",
            "['', '23', '1']\n",
            "['1', '23', '']\n",
            "['', '123', '']\n",
            "['', '23', '1']\n",
            "['2', '3', '1']\n",
            "['', '123', '']\n",
            "['', '23', '1']\n",
            "['2', '13', '']\n",
            "['2', '3', '1']\n",
            "['12', '3', '']\n",
            "['2', '13', '']\n",
            "['2', '13', '']\n",
            "['12', '', '3']\n",
            "['12', '3', '']\n",
            "['2', '1', '3']\n",
            "['12', '', '3']\n",
            "['12', '', '3']\n",
            "['12', '3', '']\n",
            "['2', '', '13']\n",
            "['12', '', '3']\n",
            "['', '2', '13']\n",
            "['2', '', '13']\n",
            "['2', '', '13']\n",
            "['2', '1', '3']\n",
            "['', '2', '13']\n",
            "['2', '', '13']\n",
            "['', '12', '3']\n",
            "['', '12', '3']\n",
            "['', '2', '13']\n",
            "['1', '2', '3']\n"
          ]
        },
        {
          "output_type": "execute_result",
          "data": {
            "text/plain": [
              "20"
            ]
          },
          "metadata": {},
          "execution_count": 6
        }
      ]
    },
    {
      "cell_type": "code",
      "source": [
        "N = int(input())\n",
        "initialMove = input().split()\n",
        "bfs(N, initialMove)"
      ],
      "metadata": {
        "colab": {
          "base_uri": "https://localhost:8080/",
          "height": 125
        },
        "id": "HPX3bW76BUmL",
        "outputId": "4e2d0d70-179d-4fe0-bf57-e0fc1c300fbd"
      },
      "execution_count": null,
      "outputs": [
        {
          "output_type": "stream",
          "name": "stdout",
          "text": [
            "2\n",
            "2 1\n",
            "['12', '']\n",
            "['2', '1']\n",
            "['12', '']\n"
          ]
        },
        {
          "output_type": "execute_result",
          "data": {
            "text/plain": [
              "'IMPOSSIBLE'"
            ],
            "application/vnd.google.colaboratory.intrinsic+json": {
              "type": "string"
            }
          },
          "metadata": {},
          "execution_count": 8
        }
      ]
    },
    {
      "cell_type": "markdown",
      "source": [
        "Excellent!\n",
        "\n",
        "Score: 15/15\n",
        "\n",
        "After discussing Leetcode111, we'll talk about an easier way to solve it.\n",
        "\n"
      ],
      "metadata": {
        "id": "Xwub_5jFHtji"
      }
    },
    {
      "cell_type": "code",
      "source": [
        "def done(N,move):\n",
        "  i = 0\n",
        "  while i < N and move[i] == str(i+1):\n",
        "    i = i + 1\n",
        "  return i == N\n",
        "\n",
        "# move the first coin from p1 to p2\n",
        "def createMove(N,oldMove, p1, p2):\n",
        "  newMove = []\n",
        "  for i in range(N):\n",
        "    newMove.append(oldMove[i]) # copy  \n",
        "  # string slicing and string concat\n",
        "  newMove[p2] = newMove[p1][:1] + newMove[p2]\n",
        "  newMove[p1] = newMove[p1][1:]\n",
        "\n",
        "  return newMove\n",
        "\n",
        "def bfs(N,initialMove):\n",
        "  if done(N,initialMove):\n",
        "    return 0\n",
        "  else:\n",
        "    queue = []    \n",
        "    visited = []\n",
        "    level = 0 # the current level\n",
        "    queue.append(initialMove) # append the root node\n",
        "    visited.append(initialMove)\n",
        "    while queue:\n",
        "      sizeOfLevel = len(queue)      \n",
        "      for _ in range(sizeOfLevel):\n",
        "        node = queue.pop(0)\n",
        "        for i in range(N):\n",
        "          # find the child (neighbour, next level node) of the node\n",
        "          # move right\n",
        "          if i != N - 1: # if it's not the right-most\n",
        "            if node[i][:1] < node[i+1][:1] or len(node[i+1]) == 0:   # the top-coin is smaller than the top-coin on the right\n",
        "              newMove = createMove(N, node, i, i+1)\n",
        "              print(newMove)\n",
        "              if newMove not in visited: \n",
        "                queue.append(newMove)\n",
        "                visited.append(newMove)\n",
        "                if done(N,newMove): # if it's a \"leaf\" node\n",
        "                  return level + 1\n",
        "          # move left\n",
        "          if i != 0:\n",
        "            if node[i][:1] < node[i-1][:1] or len(node[i-1]) == 0:\n",
        "              newMove = createMove(N, node, i, i-1)\n",
        "              print(newMove)\n",
        "              if newMove not in visited: \n",
        "                queue.append(newMove)\n",
        "                visited.append(newMove)\n",
        "                if done(N,newMove): # if it's a \"leaf\" node\n",
        "                  return level + 1\n",
        "      level += 1\n",
        "    return 'IMPOSSIBLE'"
      ],
      "metadata": {
        "id": "U_bcdsSldLDG"
      },
      "execution_count": null,
      "outputs": []
    },
    {
      "cell_type": "code",
      "source": [
        "N = int(input())\n",
        "initialMove = input().split()\n",
        "bfs(N, initialMove)"
      ],
      "metadata": {
        "colab": {
          "base_uri": "https://localhost:8080/"
        },
        "id": "Q55EEjYqfKeD",
        "outputId": "7f1ee518-4b3b-42bf-e668-76fd4b227a86"
      },
      "execution_count": null,
      "outputs": [
        {
          "output_type": "stream",
          "name": "stdout",
          "text": [
            "3\n",
            "3 2 1\n",
            "['23', '', '1']\n",
            "['3', '12', '']\n",
            "['3', '2', '1']\n",
            "['23', '', '1']\n",
            "['23', '', '1']\n",
            "['23', '1', '']\n",
            "['3', '2', '1']\n",
            "['13', '2', '']\n",
            "['3', '12', '']\n",
            "['23', '', '1']\n",
            "['123', '', '']\n",
            "['23', '1', '']\n",
            "['3', '12', '']\n",
            "['13', '', '2']\n",
            "['13', '2', '']\n",
            "['23', '1', '']\n",
            "['123', '', '']\n",
            "['123', '', '']\n",
            "['123', '', '']\n",
            "['3', '1', '2']\n",
            "['13', '', '2']\n",
            "['13', '', '2']\n",
            "['13', '2', '']\n",
            "['3', '', '12']\n",
            "['13', '', '2']\n",
            "['', '3', '12']\n",
            "['3', '', '12']\n",
            "['3', '', '12']\n",
            "['3', '1', '2']\n",
            "['', '3', '12']\n",
            "['3', '', '12']\n",
            "['', '13', '2']\n",
            "['', '13', '2']\n",
            "['', '3', '12']\n",
            "['1', '3', '2']\n",
            "['', '13', '2']\n",
            "['1', '23', '']\n",
            "['', '123', '']\n",
            "['1', '3', '2']\n",
            "['1', '23', '']\n",
            "['', '123', '']\n",
            "['', '23', '1']\n",
            "['1', '23', '']\n",
            "['', '123', '']\n",
            "['', '23', '1']\n",
            "['2', '3', '1']\n",
            "['', '123', '']\n",
            "['', '23', '1']\n",
            "['2', '13', '']\n",
            "['2', '3', '1']\n",
            "['12', '3', '']\n",
            "['2', '13', '']\n",
            "['2', '13', '']\n",
            "['12', '', '3']\n",
            "['12', '3', '']\n",
            "['2', '1', '3']\n",
            "['12', '', '3']\n",
            "['12', '', '3']\n",
            "['12', '3', '']\n",
            "['2', '', '13']\n",
            "['12', '', '3']\n",
            "['', '2', '13']\n",
            "['2', '', '13']\n",
            "['2', '', '13']\n",
            "['2', '1', '3']\n",
            "['', '2', '13']\n",
            "['2', '', '13']\n",
            "['', '12', '3']\n",
            "['', '12', '3']\n",
            "['', '2', '13']\n",
            "['1', '2', '3']\n"
          ]
        },
        {
          "output_type": "execute_result",
          "data": {
            "text/plain": [
              "20"
            ]
          },
          "metadata": {},
          "execution_count": 6
        }
      ]
    }
  ]
}