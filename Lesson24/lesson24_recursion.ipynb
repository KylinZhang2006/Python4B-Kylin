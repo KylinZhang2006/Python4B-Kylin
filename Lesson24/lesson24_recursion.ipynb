{
  "nbformat": 4,
  "nbformat_minor": 0,
  "metadata": {
    "colab": {
      "provenance": []
    },
    "kernelspec": {
      "name": "python3",
      "display_name": "Python 3"
    },
    "language_info": {
      "name": "python"
    }
  },
  "cells": [
    {
      "cell_type": "markdown",
      "source": [
        "### Recursion"
      ],
      "metadata": {
        "id": "OZcjhcnux0hL"
      }
    },
    {
      "cell_type": "markdown",
      "source": [
        "Use recursion to countdown a number to zero."
      ],
      "metadata": {
        "id": "Ezpkvy0mx4ze"
      }
    },
    {
      "cell_type": "code",
      "execution_count": 1,
      "metadata": {
        "colab": {
          "base_uri": "https://localhost:8080/"
        },
        "id": "vzQTxSFExy8D",
        "outputId": "cc5c9198-9a14-4c45-9489-4000fe9a5eeb"
      },
      "outputs": [
        {
          "output_type": "stream",
          "name": "stdout",
          "text": [
            "10\n",
            "9\n",
            "8\n",
            "7\n",
            "6\n",
            "5\n",
            "4\n",
            "3\n",
            "2\n",
            "1\n",
            "0\n"
          ]
        }
      ],
      "source": [
        "def countdown(n):\n",
        "  while n >= 0:\n",
        "    print(n)\n",
        "    n -= 1\n",
        "countdown(10)"
      ]
    },
    {
      "cell_type": "code",
      "source": [
        "def countdown(n):\n",
        "  print(n)\n",
        "  if n > 0:\n",
        "    countdown(n-1)\n",
        "countdown(10)"
      ],
      "metadata": {
        "colab": {
          "base_uri": "https://localhost:8080/"
        },
        "id": "qoHRioNYytPt",
        "outputId": "fb48d61d-026d-4f61-a692-02385a7d8f4d"
      },
      "execution_count": 8,
      "outputs": [
        {
          "output_type": "stream",
          "name": "stdout",
          "text": [
            "10\n",
            "9\n",
            "8\n",
            "7\n",
            "6\n",
            "5\n",
            "4\n",
            "3\n",
            "2\n",
            "1\n",
            "0\n"
          ]
        }
      ]
    },
    {
      "cell_type": "markdown",
      "source": [
        "### CCC 2020 J5"
      ],
      "metadata": {
        "id": "2O65Er7d1g2K"
      }
    },
    {
      "cell_type": "code",
      "source": [
        "N = int(input())\n",
        "M = int(input())\n",
        "\n",
        "lst = []\n",
        "for i in range(N):\n",
        "  s = input()\n",
        "  lst.append(s.split())\n"
      ],
      "metadata": {
        "colab": {
          "base_uri": "https://localhost:8080/"
        },
        "id": "DN-Pz2ZI1jRj",
        "outputId": "b00591ed-3557-45d7-c15c-21b37cde693d"
      },
      "execution_count": 12,
      "outputs": [
        {
          "name": "stdout",
          "output_type": "stream",
          "text": [
            "3\n",
            "4\n",
            "3 10 8 14\n",
            "1 11 12 12\n",
            "6 2 3 9\n"
          ]
        }
      ]
    },
    {
      "cell_type": "code",
      "source": [
        "lst"
      ],
      "metadata": {
        "colab": {
          "base_uri": "https://localhost:8080/"
        },
        "id": "As7jaVdn18hs",
        "outputId": "95de2fef-632b-4d8f-b246-bc81cb8b69e0"
      },
      "execution_count": 13,
      "outputs": [
        {
          "output_type": "execute_result",
          "data": {
            "text/plain": [
              "[['3', '10', '8', '14'], ['1', '11', '12', '12'], ['6', '2', '3', '9']]"
            ]
          },
          "metadata": {},
          "execution_count": 13
        }
      ]
    },
    {
      "cell_type": "code",
      "source": [
        "# find the factors of N\n",
        "# 1. store them in list as pairs\n",
        "# 2. the pairs should not be out of boundary\n",
        "def factor(n):\n",
        "  result = []\n",
        "  for i in range(1, n + 1):\n",
        "    if n%i == 0:\n",
        "      result.append(i)\n",
        "  factors = []\n",
        "  for i in range(len(result)):\n",
        "    for j in range(len(result)):\n",
        "      if result[i] * result[j] == 8:\n",
        "        factors.append([result[i], result[j]])\n",
        "      j += 1\n",
        "      if j == len(result):\n",
        "        i += 1\n",
        "        j = i\n",
        "      if j == len(result) and i == len(result):\n",
        "        return factors\n",
        "factor(8)"
      ],
      "metadata": {
        "colab": {
          "base_uri": "https://localhost:8080/"
        },
        "id": "nJzHXH4K2Aiy",
        "outputId": "7c2fe5c3-6c78-436b-e384-1ac2e07ac509"
      },
      "execution_count": 14,
      "outputs": [
        {
          "output_type": "execute_result",
          "data": {
            "text/plain": [
              "[[1, 8], [2, 4], [4, 2], [8, 1]]"
            ]
          },
          "metadata": {},
          "execution_count": 14
        }
      ]
    },
    {
      "cell_type": "code",
      "source": [
        "M=4\n",
        "N=4"
      ],
      "metadata": {
        "id": "ieVZj8sk7HK7"
      },
      "execution_count": 20,
      "outputs": []
    },
    {
      "cell_type": "code",
      "source": [
        "def factor(n):\n",
        "  global N\n",
        "  global M\n",
        "  result = []\n",
        "  for factor1 in range(1, int(n**0.5) + 1): ### remember!!!!\n",
        "    if n % factor1 == 0:\n",
        "      factor2 = n // factor1\n",
        "      if factor1 <= N and factor2 <= M:\n",
        "        result.append([factor1, factor2])\n",
        "      if factor1 <= N and factor2 <= M:\n",
        "        result.append([factor2, factor1])\n",
        "  return result\n",
        "factor(8)"
      ],
      "metadata": {
        "colab": {
          "base_uri": "https://localhost:8080/"
        },
        "id": "UV1zyct25x_J",
        "outputId": "c3610802-d41d-4290-bfea-ac120d76a8f5"
      },
      "execution_count": 23,
      "outputs": [
        {
          "output_type": "execute_result",
          "data": {
            "text/plain": [
              "[[2, 4], [4, 2]]"
            ]
          },
          "metadata": {},
          "execution_count": 23
        }
      ]
    },
    {
      "cell_type": "code",
      "source": [
        "# recursion\n",
        "def escape(visited,r,c):\n",
        "  global lst\n",
        "  global N\n",
        "  global M\n",
        "  # if you get the right-bottom, return True\n",
        "\n",
        "  val = int(lst[r][c])\n",
        "  next_positions = factor(val) # lots of next points\n",
        "  # then you need to decide if you can escape from next position\n",
        "  for pos in next_positions:\n",
        "    if pos in visited:\n",
        "      continue\n",
        "    visited.append(pos)\n",
        "    # can we escape?\n",
        "\n",
        "\n",
        "  return False\n",
        "\n",
        "escape([[0,0]],0,0)"
      ],
      "metadata": {
        "id": "K2S0PGqT8jKh"
      },
      "execution_count": null,
      "outputs": []
    }
  ]
}