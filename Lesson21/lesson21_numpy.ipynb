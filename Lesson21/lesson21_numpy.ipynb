{
  "nbformat": 4,
  "nbformat_minor": 0,
  "metadata": {
    "colab": {
      "provenance": []
    },
    "kernelspec": {
      "name": "python3",
      "display_name": "Python 3"
    },
    "language_info": {
      "name": "python"
    }
  },
  "cells": [
    {
      "cell_type": "markdown",
      "source": [
        "## Continue to learn about Numpy\n"
      ],
      "metadata": {
        "id": "xHeefaQ4r4r9"
      }
    },
    {
      "cell_type": "markdown",
      "source": [
        "### Reshape"
      ],
      "metadata": {
        "id": "NkPin3TGr-IE"
      }
    },
    {
      "cell_type": "code",
      "execution_count": null,
      "metadata": {
        "colab": {
          "base_uri": "https://localhost:8080/"
        },
        "id": "qxMmiso9qkvl",
        "outputId": "0607e7f2-e62b-4372-df5d-7345204b5ea9"
      },
      "outputs": [
        {
          "output_type": "execute_result",
          "data": {
            "text/plain": [
              "array([[1, 2, 3],\n",
              "       [4, 5, 6],\n",
              "       [7, 8, 9]])"
            ]
          },
          "metadata": {},
          "execution_count": 3
        }
      ],
      "source": [
        "import numpy as np\n",
        "\n",
        "arr1 = np.arange(1,10).reshape((3,3))\n",
        "arr1"
      ]
    },
    {
      "cell_type": "code",
      "source": [
        "arr2 = np.array([1,2,3])\n",
        "print(arr2.reshape((1,3)))\n",
        "print(arr2.reshape((3,1)))"
      ],
      "metadata": {
        "colab": {
          "base_uri": "https://localhost:8080/"
        },
        "id": "QmydP0iisV1k",
        "outputId": "da11b512-bc69-4500-bdd9-37aa28113f94"
      },
      "execution_count": null,
      "outputs": [
        {
          "output_type": "stream",
          "name": "stdout",
          "text": [
            "[[1 2 3]]\n",
            "[[1]\n",
            " [2]\n",
            " [3]]\n"
          ]
        }
      ]
    },
    {
      "cell_type": "markdown",
      "source": [
        "### Concatenation"
      ],
      "metadata": {
        "id": "hJnFVv3Osx3g"
      }
    },
    {
      "cell_type": "code",
      "source": [
        "arr3 = np.array([1,2,3])\n",
        "arr4 = np.array([3,2,1])\n",
        "arr5 = [11,11,11]\n",
        "print(np.concatenate([arr3,arr4,arr5]))\n",
        "\n",
        "table = np.array([[1,2,3],[4,5,6]])\n",
        "print(np.concatenate([table,table]))\n",
        "# concatenate doesn't change the dimension"
      ],
      "metadata": {
        "colab": {
          "base_uri": "https://localhost:8080/"
        },
        "id": "u_6nE7x-s07b",
        "outputId": "2c8a5249-41b6-4509-b5b0-9750efccdbb9"
      },
      "execution_count": null,
      "outputs": [
        {
          "output_type": "stream",
          "name": "stdout",
          "text": [
            "[ 1  2  3  3  2  1 11 11 11]\n",
            "[[1 2 3]\n",
            " [4 5 6]\n",
            " [1 2 3]\n",
            " [4 5 6]]\n"
          ]
        }
      ]
    },
    {
      "cell_type": "code",
      "source": [
        "# something good to know\n",
        "print(np.hstack((arr3,arr4)))\n",
        "print(np.vstack((arr3,arr4))) # it gonna change the dimension, depends on the original dimension"
      ],
      "metadata": {
        "colab": {
          "base_uri": "https://localhost:8080/"
        },
        "id": "2w-RkIA9tZVy",
        "outputId": "af30bf35-4682-4126-84f5-791e3ff32ab0"
      },
      "execution_count": null,
      "outputs": [
        {
          "output_type": "stream",
          "name": "stdout",
          "text": [
            "[1 2 3 3 2 1]\n",
            "[[1 2 3]\n",
            " [3 2 1]]\n"
          ]
        }
      ]
    },
    {
      "cell_type": "markdown",
      "source": [
        "### Split"
      ],
      "metadata": {
        "id": "GDF8lVAtuAza"
      }
    },
    {
      "cell_type": "code",
      "source": [
        "arr6 = np.arange(10)\n",
        "x, y, z = np.split(arr6,[3,6]) # 3 and 6 are the index!\n",
        "print(x,y,z)"
      ],
      "metadata": {
        "colab": {
          "base_uri": "https://localhost:8080/"
        },
        "id": "1PVAClIJuCaQ",
        "outputId": "1f96b6e7-5adb-40a4-bff7-5a847671978b"
      },
      "execution_count": null,
      "outputs": [
        {
          "output_type": "stream",
          "name": "stdout",
          "text": [
            "[0 1 2] [3 4 5] [6 7 8 9]\n"
          ]
        }
      ]
    },
    {
      "cell_type": "markdown",
      "source": [
        "### Aggregations"
      ],
      "metadata": {
        "id": "UpzKhhy_ukw_"
      }
    },
    {
      "cell_type": "code",
      "source": [
        "import numpy as np\n",
        "x = np.random.random(100)\n",
        "#print(x)\n",
        "print(np.sum(x))\n",
        "print(np.mean(x))\n",
        "print(x.sum()) # another syntax\n",
        "print(x.mean())\n",
        "print(x.max())\n",
        "print(x.min())"
      ],
      "metadata": {
        "colab": {
          "base_uri": "https://localhost:8080/"
        },
        "id": "D29Lr9CSukYN",
        "outputId": "45d0b2b4-cc8a-4b03-9922-21baa0c307ad"
      },
      "execution_count": null,
      "outputs": [
        {
          "output_type": "stream",
          "name": "stdout",
          "text": [
            "50.457657518971615\n",
            "0.5045765751897161\n",
            "50.457657518971615\n",
            "0.5045765751897161\n",
            "0.9977166226470771\n",
            "0.004192377645687251\n"
          ]
        }
      ]
    },
    {
      "cell_type": "code",
      "source": [
        "table = np.random.random((3,4))\n",
        "print(table)\n",
        "\n",
        "print(table.sum())\n",
        "print(table.min())\n",
        "\n",
        "# if we want to know more about the row/column\n",
        "print(np.amin(table,axis = 0)) # column\n",
        "print(np.amin(table,axis = 1)) # row"
      ],
      "metadata": {
        "colab": {
          "base_uri": "https://localhost:8080/"
        },
        "id": "eUI4vzNJvL77",
        "outputId": "362a83db-d59d-44d9-ef81-332813f1ffd0"
      },
      "execution_count": null,
      "outputs": [
        {
          "output_type": "stream",
          "name": "stdout",
          "text": [
            "[[0.62475377 0.03707598 0.35721251 0.92788357]\n",
            " [0.51643894 0.3132704  0.5658193  0.90108668]\n",
            " [0.61829732 0.60581293 0.36362478 0.95904285]]\n",
            "6.7903190253595795\n",
            "0.03707598364318254\n",
            "[0.51643894 0.03707598 0.35721251 0.90108668]\n",
            "[0.03707598 0.3132704  0.36362478]\n"
          ]
        }
      ]
    },
    {
      "cell_type": "markdown",
      "source": [
        "Exercise:\n",
        "\n",
        "10x10 array with random values, call it arr. \n",
        "\n",
        "Find its min, max.\n",
        "\n",
        "Find its row-wise min."
      ],
      "metadata": {
        "id": "Lkqn6f-YwTn8"
      }
    },
    {
      "cell_type": "code",
      "source": [
        "arr = np.random.random((10, 10))\n",
        "print(arr.min())\n",
        "print(arr.max())\n",
        "\n",
        "print(np.amin(arr, axis = 1))"
      ],
      "metadata": {
        "colab": {
          "base_uri": "https://localhost:8080/"
        },
        "id": "R62FBTMRw1o3",
        "outputId": "02cd5d66-d610-4768-f454-e9b7b6854c3c"
      },
      "execution_count": null,
      "outputs": [
        {
          "output_type": "stream",
          "name": "stdout",
          "text": [
            "0.0005042165343031035\n",
            "0.9896067720075937\n",
            "[0.06797596 0.18214059 0.14141289 0.32221089 0.05310707 0.07831736\n",
            " 0.11836418 0.00050422 0.09071196 0.37817565]\n"
          ]
        }
      ]
    },
    {
      "cell_type": "markdown",
      "source": [
        "Exercise:\n",
        "Replace the maximum value in the given arr, with -1"
      ],
      "metadata": {
        "id": "kDfV7LXOxAQT"
      }
    },
    {
      "cell_type": "code",
      "source": [
        "arr = np.arange(10)\n",
        "arr[arr == max(arr)] = -1\n",
        "arr"
      ],
      "metadata": {
        "colab": {
          "base_uri": "https://localhost:8080/"
        },
        "id": "awwRYz6JxHft",
        "outputId": "edfb4e04-5f04-400a-df2a-cb4003393347"
      },
      "execution_count": null,
      "outputs": [
        {
          "output_type": "execute_result",
          "data": {
            "text/plain": [
              "array([ 0,  1,  2,  3,  4,  5,  6,  7,  8, -1])"
            ]
          },
          "metadata": {},
          "execution_count": 33
        }
      ]
    },
    {
      "cell_type": "code",
      "source": [
        "arr = np.arange(10)\n",
        "print(arr.argmax()) # return the index of the max value\n",
        "arr[arr.argmax()] = -1\n",
        "arr"
      ],
      "metadata": {
        "colab": {
          "base_uri": "https://localhost:8080/"
        },
        "id": "F0IfHXTDx-Du",
        "outputId": "e70dc88e-b050-4f96-8de6-a9d446288b33"
      },
      "execution_count": null,
      "outputs": [
        {
          "output_type": "stream",
          "name": "stdout",
          "text": [
            "9\n"
          ]
        },
        {
          "output_type": "execute_result",
          "data": {
            "text/plain": [
              "array([ 0,  1,  2,  3,  4,  5,  6,  7,  8, -1])"
            ]
          },
          "metadata": {},
          "execution_count": 35
        }
      ]
    },
    {
      "cell_type": "code",
      "source": [
        "lst = [[1, 2],\n",
        "       [3, 4]]\n",
        "s = input()\n",
        "for char in s:\n",
        "  if char == \"V\":\n",
        "    \"\"\"\n",
        "    temp = lst[0][0]\n",
        "    lst[0][0] = lst[0][1]\n",
        "    lst[0][1] = temp\n",
        "    temp = lst[1][0]\n",
        "    lst[1][0] = lst[1][1]\n",
        "    lst[1][1] = temp\"\"\"\n",
        "    temp0 = [lst[0][1], lst[0][0]] ### ***remember*** \n",
        "    temp1 = [lst[1][1], lst[1][0]]\n",
        "    lst[0] = temp0\n",
        "    lst[1] = temp1\n",
        "  if char == \"H\":\n",
        "    #temp = lst[0]\n",
        "    #lst[0] = lst[1]\n",
        "    #lst[1] = temp\n",
        "    lst[0],lst[1] = lst[1],lst[0] # exchange the value ****remember****\n",
        "\n",
        "# print has to be exactly the same\n",
        "for row in lst:\n",
        "  s = \"\"\n",
        "  for ele in row:\n",
        "    s += str(ele) + \" \"\n",
        "  print(s.strip())"
      ],
      "metadata": {
        "colab": {
          "base_uri": "https://localhost:8080/"
        },
        "id": "BKFH4hiA2Jnc",
        "outputId": "3b028521-cb80-42cf-d54f-4a8123c1db30"
      },
      "execution_count": 43,
      "outputs": [
        {
          "output_type": "stream",
          "name": "stdout",
          "text": [
            "HV\n",
            "4 3\n",
            "2 1\n"
          ]
        }
      ]
    }
  ]
}