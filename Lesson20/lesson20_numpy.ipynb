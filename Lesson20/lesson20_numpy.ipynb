{
  "nbformat": 4,
  "nbformat_minor": 0,
  "metadata": {
    "colab": {
      "provenance": []
    },
    "kernelspec": {
      "name": "python3",
      "display_name": "Python 3"
    },
    "language_info": {
      "name": "python"
    }
  },
  "cells": [
    {
      "cell_type": "markdown",
      "source": [
        "#Numpy Basics"
      ],
      "metadata": {
        "id": "wBizRm_BlCXN"
      }
    },
    {
      "cell_type": "markdown",
      "source": [
        "### Create Numpy Arrays"
      ],
      "metadata": {
        "id": "yQWyk9HKlHdy"
      }
    },
    {
      "cell_type": "markdown",
      "source": [
        "####First way: create Numpy Arrays from Lists"
      ],
      "metadata": {
        "id": "rmF4x-ZqlQjL"
      }
    },
    {
      "cell_type": "code",
      "execution_count": 9,
      "metadata": {
        "colab": {
          "base_uri": "https://localhost:8080/"
        },
        "id": "88LhkBwriV9l",
        "outputId": "8f52eaa8-b868-4687-c504-2bf93e12f957"
      },
      "outputs": [
        {
          "output_type": "stream",
          "name": "stdout",
          "text": [
            "[1 2 3 4]\n",
            "<class 'numpy.ndarray'>\n"
          ]
        }
      ],
      "source": [
        "import numpy as np\n",
        "arr1 = np.array([1,2,3,4])\n",
        "\n",
        "print(arr1)\n",
        "print(type(arr1))"
      ]
    },
    {
      "cell_type": "code",
      "source": [
        "lst = [1,2,3,4]\n",
        "\n",
        "print(lst)\n",
        "print(type(lst))"
      ],
      "metadata": {
        "colab": {
          "base_uri": "https://localhost:8080/"
        },
        "id": "oMer1s1Vl71C",
        "outputId": "5e83b856-e4b3-4224-cd54-bf1792a9f960"
      },
      "execution_count": 8,
      "outputs": [
        {
          "output_type": "stream",
          "name": "stdout",
          "text": [
            "[1, 2, 3, 4]\n",
            "<class 'list'>\n"
          ]
        }
      ]
    },
    {
      "cell_type": "code",
      "source": [
        "# We can explicitly set the data type of the array\n",
        "arr2 = np.array([1,2,3,4], dtype='float32')\n",
        "\n",
        "print(arr2)\n",
        "print(type(arr2))"
      ],
      "metadata": {
        "colab": {
          "base_uri": "https://localhost:8080/"
        },
        "id": "wze9yoIfmZ-s",
        "outputId": "a9f413c3-d125-48ef-f26d-b4df1a6bc038"
      },
      "execution_count": 11,
      "outputs": [
        {
          "output_type": "stream",
          "name": "stdout",
          "text": [
            "[1. 2. 3. 4.]\n",
            "<class 'numpy.ndarray'>\n"
          ]
        }
      ]
    },
    {
      "cell_type": "code",
      "source": [
        "# Creat a 2d array from a list of lists\n",
        "lists = [[0,1,2],[3,4,5],[6,7,8]]\n",
        "arr2d = np.array(lists)\n",
        "\n",
        "print(lists)\n",
        "print(arr2d)\n",
        "print(type(arr2d))"
      ],
      "metadata": {
        "colab": {
          "base_uri": "https://localhost:8080/"
        },
        "id": "K0sGc05PmeAy",
        "outputId": "2b8bf1a5-fca1-42c5-94a6-b7000ae618ad"
      },
      "execution_count": 13,
      "outputs": [
        {
          "output_type": "stream",
          "name": "stdout",
          "text": [
            "[[0, 1, 2], [3, 4, 5], [6, 7, 8]]\n",
            "[[0 1 2]\n",
            " [3 4 5]\n",
            " [6 7 8]]\n",
            "<class 'numpy.ndarray'>\n"
          ]
        }
      ]
    },
    {
      "cell_type": "code",
      "source": [
        "# What's the difference between array and list\n",
        "print(arr1)\n",
        "print(lst)"
      ],
      "metadata": {
        "colab": {
          "base_uri": "https://localhost:8080/"
        },
        "id": "pIsmWsqKnQj9",
        "outputId": "f437f37b-e68c-469e-84d9-dd4898065d2a"
      },
      "execution_count": 19,
      "outputs": [
        {
          "output_type": "stream",
          "name": "stdout",
          "text": [
            "[1 2 3 4]\n",
            "[1, 2, 3, 4]\n"
          ]
        }
      ]
    },
    {
      "cell_type": "code",
      "source": [
        "# 1st difference: We can do Vector (element-wise) operations to array\n",
        "print(lst * 2) # it will duplicate and extend the current list\n",
        "print(lst + 2) # it's an error\n",
        "print(lst * lst) # it's an error"
      ],
      "metadata": {
        "id": "PWc28CMUoD78"
      },
      "execution_count": null,
      "outputs": []
    },
    {
      "cell_type": "code",
      "source": [
        "print(arr1 * 2)\n",
        "print(arr1 + 2)\n",
        "print(arr1 * arr1)"
      ],
      "metadata": {
        "colab": {
          "base_uri": "https://localhost:8080/"
        },
        "id": "Kj6m4jgRoGgZ",
        "outputId": "916d14d9-bf37-4bbd-811c-04fb5362914d"
      },
      "execution_count": 23,
      "outputs": [
        {
          "output_type": "stream",
          "name": "stdout",
          "text": [
            "[2 4 6 8]\n",
            "[3 4 5 6]\n",
            "[ 1  4  9 16]\n"
          ]
        }
      ]
    },
    {
      "cell_type": "code",
      "source": [
        "arr2d = np.array([[0,1,2],[3,4,5],[6,7,8]])\n",
        "arr2d_another = np.array([[1,2,3],[4,5,6],[7,8,9]])\n",
        "print(arr2d)\n",
        "print(arr2d_another)"
      ],
      "metadata": {
        "colab": {
          "base_uri": "https://localhost:8080/"
        },
        "id": "Up95lDWuokVr",
        "outputId": "fb92366a-fc60-4025-dd53-167f76739241"
      },
      "execution_count": 35,
      "outputs": [
        {
          "output_type": "stream",
          "name": "stdout",
          "text": [
            "[[0 1 2]\n",
            " [3 4 5]\n",
            " [6 7 8]]\n",
            "[[1 2 3]\n",
            " [4 5 6]\n",
            " [7 8 9]]\n"
          ]
        }
      ]
    },
    {
      "cell_type": "code",
      "source": [
        "print(arr2d * arr2d)"
      ],
      "metadata": {
        "colab": {
          "base_uri": "https://localhost:8080/"
        },
        "id": "Xs3YURWGobqQ",
        "outputId": "66ac55c0-cdb3-477d-fefd-5f2af44dd907"
      },
      "execution_count": 36,
      "outputs": [
        {
          "output_type": "stream",
          "name": "stdout",
          "text": [
            "[[ 0  1  4]\n",
            " [ 9 16 25]\n",
            " [36 49 64]]\n"
          ]
        }
      ]
    },
    {
      "cell_type": "code",
      "source": [
        "print(arr2d * arr2d_another)"
      ],
      "metadata": {
        "colab": {
          "base_uri": "https://localhost:8080/"
        },
        "id": "Fcu3fV_ApADS",
        "outputId": "498232e4-bdd7-4e68-f27c-eb122287cede"
      },
      "execution_count": 37,
      "outputs": [
        {
          "output_type": "stream",
          "name": "stdout",
          "text": [
            "[[ 0  2  6]\n",
            " [12 20 30]\n",
            " [42 56 72]]\n"
          ]
        }
      ]
    },
    {
      "cell_type": "code",
      "source": [
        "# 2nd difference: elements in array has to be the same dtype\n",
        "lst_has_lots_of_stuff = [1,0.9,False,\"Apple\"]\n",
        "d = np.array(lst_has_lots_of_stuff) # something you should not do!\n",
        "print(d)\n",
        "print(d.dtype)"
      ],
      "metadata": {
        "colab": {
          "base_uri": "https://localhost:8080/"
        },
        "id": "M13sCfH_q322",
        "outputId": "5e0a42d5-6d63-44ec-c912-6ff3f3af2de9"
      },
      "execution_count": 47,
      "outputs": [
        {
          "output_type": "stream",
          "name": "stdout",
          "text": [
            "['1' '0.9' 'False' 'Apple']\n",
            "<U32\n"
          ]
        }
      ]
    },
    {
      "cell_type": "code",
      "source": [
        "# 3rd difference: array and list with same items, numpy array will take much less space than Python list"
      ],
      "metadata": {
        "id": "de6XhOmyrlq3"
      },
      "execution_count": null,
      "outputs": []
    },
    {
      "cell_type": "markdown",
      "source": [
        "####Second way: create arrays from functions"
      ],
      "metadata": {
        "id": "TqhXfoeJp5_e"
      }
    },
    {
      "cell_type": "code",
      "source": [
        "# create an int array filled with zeros, length is 10\n",
        "np.zeros(100, dtype=int)"
      ],
      "metadata": {
        "id": "XyJTGBbHqIuv"
      },
      "execution_count": null,
      "outputs": []
    },
    {
      "cell_type": "code",
      "source": [
        "# create a 3 x 4 float array filled with ones\n",
        "np.ones((3,4), dtype=float) "
      ],
      "metadata": {
        "id": "KBRxyrhrqwIn"
      },
      "execution_count": null,
      "outputs": []
    },
    {
      "cell_type": "code",
      "source": [
        "# create an array with numbers from 0 to 20, step is 2\n",
        "np.arange(0,20,2)"
      ],
      "metadata": {
        "colab": {
          "base_uri": "https://localhost:8080/"
        },
        "id": "F1kGyKQPqyPc",
        "outputId": "f51a4c68-17dc-4287-e59e-b6623d4d1f96"
      },
      "execution_count": 48,
      "outputs": [
        {
          "output_type": "execute_result",
          "data": {
            "text/plain": [
              "array([ 0,  2,  4,  6,  8, 10, 12, 14, 16, 18])"
            ]
          },
          "metadata": {},
          "execution_count": 48
        }
      ]
    },
    {
      "cell_type": "code",
      "source": [
        "# create an array of 20 values evenly spaced between 0 and 1\n",
        "np.linspace(0,1,20)"
      ],
      "metadata": {
        "colab": {
          "base_uri": "https://localhost:8080/"
        },
        "id": "DIneJ125sH3z",
        "outputId": "de86c04c-0705-40c1-930b-a1b393682a9b"
      },
      "execution_count": 52,
      "outputs": [
        {
          "output_type": "execute_result",
          "data": {
            "text/plain": [
              "array([0.        , 0.05263158, 0.10526316, 0.15789474, 0.21052632,\n",
              "       0.26315789, 0.31578947, 0.36842105, 0.42105263, 0.47368421,\n",
              "       0.52631579, 0.57894737, 0.63157895, 0.68421053, 0.73684211,\n",
              "       0.78947368, 0.84210526, 0.89473684, 0.94736842, 1.        ])"
            ]
          },
          "metadata": {},
          "execution_count": 52
        }
      ]
    },
    {
      "cell_type": "code",
      "source": [
        "# create a 3 x 3 array of uniformly distributed random values btween 0 and 1\n",
        "np.random.random((3,3))"
      ],
      "metadata": {
        "colab": {
          "base_uri": "https://localhost:8080/"
        },
        "id": "Zf18SnCSsPeY",
        "outputId": "68269eb7-3015-4f44-e9c3-28c7ab7b8ba0"
      },
      "execution_count": 57,
      "outputs": [
        {
          "output_type": "execute_result",
          "data": {
            "text/plain": [
              "array([[0.14047042, 0.29722963, 0.07025022],\n",
              "       [0.47291832, 0.65982632, 0.6187286 ],\n",
              "       [0.02197483, 0.63337761, 0.04911519]])"
            ]
          },
          "metadata": {},
          "execution_count": 57
        }
      ]
    },
    {
      "cell_type": "code",
      "source": [
        "# create a 3 x 3 array of random int btween 0 and 10 (10 is not included)\n",
        "np.random.randint(0,10,(3,3))"
      ],
      "metadata": {
        "colab": {
          "base_uri": "https://localhost:8080/"
        },
        "id": "-DSXyMcMtKjW",
        "outputId": "c28bd975-d03e-48f8-b656-a4323ef48baf"
      },
      "execution_count": 63,
      "outputs": [
        {
          "output_type": "execute_result",
          "data": {
            "text/plain": [
              "array([[2, 8, 3],\n",
              "       [7, 2, 3],\n",
              "       [1, 6, 6]])"
            ]
          },
          "metadata": {},
          "execution_count": 63
        }
      ]
    },
    {
      "cell_type": "code",
      "source": [
        "# create an int array of random numbers btween 0 and 10 (10 is not included), length is 6\n",
        "np.random.randint(0,10,6)"
      ],
      "metadata": {
        "colab": {
          "base_uri": "https://localhost:8080/"
        },
        "id": "6V7IfoxvtbJl",
        "outputId": "f6a454ef-af13-415d-9d05-ae7116ea98b1"
      },
      "execution_count": 64,
      "outputs": [
        {
          "output_type": "execute_result",
          "data": {
            "text/plain": [
              "array([5, 8, 4, 3, 3, 6])"
            ]
          },
          "metadata": {},
          "execution_count": 64
        }
      ]
    },
    {
      "cell_type": "markdown",
      "source": [
        "###Array Attributes"
      ],
      "metadata": {
        "id": "tQ7f3LdQtvO8"
      }
    },
    {
      "cell_type": "code",
      "source": [
        "arr1d = np.array([0,1,2,3,4])\n",
        "arr2d = np.array([[0,1,2],[3,4,5]], dtype = 'float32')\n",
        "print(arr1d)\n",
        "print(arr2d)"
      ],
      "metadata": {
        "id": "neyDfHnrtzSm"
      },
      "execution_count": null,
      "outputs": []
    },
    {
      "cell_type": "code",
      "source": [
        "# data type of the array\n",
        "print(\"dtype:\", arr1d.dtype)\n",
        "print(\"dtype:\", arr2d.dtype)\n",
        "# the number of dimenstions\n",
        "print(\"ndim:\", arr1d.ndim)\n",
        "print(\"ndim:\", arr2d.ndim)\n",
        "# the size of the array (the number of elements)\n",
        "print(\"size:\", arr1d.size)\n",
        "print(\"size:\", arr2d.size)\n",
        "# the shape of the array\n",
        "print(\"shape:\", arr1d.shape)\n",
        "print(\"shape:\", arr2d.shape)"
      ],
      "metadata": {
        "id": "QQB9vWFGuDM6"
      },
      "execution_count": null,
      "outputs": []
    },
    {
      "cell_type": "markdown",
      "source": [
        "### Indexing"
      ],
      "metadata": {
        "id": "-_H35jGwwCa5"
      }
    },
    {
      "cell_type": "code",
      "source": [
        "arr1 = np.array([1,2,3,5,5,6,7])\n",
        "print(arr1[0]) # the first element\n",
        "print(arr1[4]) # the fifth element\n",
        "print(arr1[-1]) # the last element\n",
        "print(arr1[-2]) # the second last element"
      ],
      "metadata": {
        "id": "6wqJiTl2wEMg"
      },
      "execution_count": null,
      "outputs": []
    },
    {
      "cell_type": "code",
      "source": [
        "arr2 = np.array([[0,1,2],[3,4,5],[9,8,7],[11,12,16]], dtype = 'float32')\n",
        "print(arr2)\n",
        "print(arr2[2,1]) # get the value of 8\n",
        "print(arr2[-2,-2]) # get the value of 8, another way!\n",
        "# lets update the 7 to 6\n",
        "arr2[2,2] = 6.0\n",
        "print(arr2)"
      ],
      "metadata": {
        "id": "2JyjZBtywq20"
      },
      "execution_count": null,
      "outputs": []
    },
    {
      "cell_type": "code",
      "source": [
        "# slicing\n",
        "x1 = np.arange(10)\n",
        "print(x1)\n",
        "# get 0 to 5 (included)\n",
        "print(x1[:6])\n",
        "# get the numbers after 6 (included)\n",
        "print(x1[6:])\n",
        "# get 5 and 6\n",
        "print(x1[5:7])\n",
        "# get all the even numbers\n",
        "print(x1[::2])\n",
        "# reverse all elements\n",
        "print(x1[::-1])"
      ],
      "metadata": {
        "id": "SkQgLDXlxkLk"
      },
      "execution_count": null,
      "outputs": []
    },
    {
      "cell_type": "code",
      "source": [
        "x2 = np.array([[0,1,2],[3,4,5],[6,7,8],[9,10,11]])\n",
        "print(x2)\n",
        "# get the 2nd row\n",
        "print(x2[1:2,:])\n",
        "print(x2[1])\n",
        "\n",
        "# all rows, every other column\n",
        "print(x2[:,::2])\n",
        "\n",
        "# reverse all rows\n",
        "print(x2[::-1,:])\n",
        "\n",
        "# reverse rows and columns\n",
        "print(x2[::-1,::-1])"
      ],
      "metadata": {
        "id": "nMa4IgXCyzEq"
      },
      "execution_count": null,
      "outputs": []
    },
    {
      "cell_type": "code",
      "source": [
        "print(x2) # x2 remains the same\n",
        "x3 = x2[::-1,:].copy() # x2's changes will not influence x3"
      ],
      "metadata": {
        "id": "vmXHn6ee01sA"
      },
      "execution_count": null,
      "outputs": []
    }
  ]
}