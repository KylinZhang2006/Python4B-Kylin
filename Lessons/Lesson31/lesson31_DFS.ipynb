{
  "nbformat": 4,
  "nbformat_minor": 0,
  "metadata": {
    "colab": {
      "provenance": []
    },
    "kernelspec": {
      "name": "python3",
      "display_name": "Python 3"
    },
    "language_info": {
      "name": "python"
    }
  },
  "cells": [
    {
      "cell_type": "code",
      "execution_count": 6,
      "metadata": {
        "id": "QTBMkAGIe_fm"
      },
      "outputs": [],
      "source": [
        "class Node:\n",
        "  def __init__(self, key):\n",
        "    self.val = key\n",
        "    self.left = None\n",
        "    self.right = None"
      ]
    },
    {
      "cell_type": "code",
      "source": [
        "def dfs_in_order(root):\n",
        "  if root:\n",
        "    dfs_in_order(root.left)\n",
        "    print(root.val) # you can add any other logic\n",
        "    dfs_in_order(root.right)"
      ],
      "metadata": {
        "id": "_kIpM-XzjZxS"
      },
      "execution_count": 5,
      "outputs": []
    },
    {
      "cell_type": "code",
      "source": [
        "def dfs_pre_order(root):\n",
        "  if root:\n",
        "    print(root.val)\n",
        "    dfs_pre_order(root.left)    \n",
        "    dfs_pre_order(root.right)"
      ],
      "metadata": {
        "id": "ZgtTgbXoktle"
      },
      "execution_count": 13,
      "outputs": []
    },
    {
      "cell_type": "code",
      "source": [
        "def dfs_post_order(root):\n",
        "  if root:\n",
        "    dfs_post_order(root.left)    \n",
        "    dfs_post_order(root.right)\n",
        "    print(root.val)"
      ],
      "metadata": {
        "id": "5E9ksLTomfyT"
      },
      "execution_count": 16,
      "outputs": []
    },
    {
      "cell_type": "code",
      "source": [
        "node10 = Node(10)\n",
        "node7 = Node(7)\n",
        "node11 = Node(11)\n",
        "node6 = Node(6)\n",
        "node8 = Node(8)\n",
        "node1 = Node(1)\n",
        "node9 = Node(9)\n",
        "node11 = Node(11)\n",
        "node20 = Node(20)\n",
        "node14 = Node(14)\n",
        "node22 = Node(22)\n",
        "\n",
        "node10.left = node7\n",
        "node10.right = node11\n",
        "node7.left = node6\n",
        "node7.right = node8\n",
        "node11.right = node20\n",
        "node6.left = node1\n",
        "node8.right = node9\n",
        "node20.left = node14\n",
        "node20.right = node22"
      ],
      "metadata": {
        "id": "bIE_7X9PjX7N"
      },
      "execution_count": 9,
      "outputs": []
    },
    {
      "cell_type": "code",
      "source": [
        "dfs_in_order(node10)"
      ],
      "metadata": {
        "colab": {
          "base_uri": "https://localhost:8080/"
        },
        "id": "OB5TP0PVjZUO",
        "outputId": "88d425bf-0059-4a82-a18b-363afe5eba03"
      },
      "execution_count": 10,
      "outputs": [
        {
          "output_type": "stream",
          "name": "stdout",
          "text": [
            "1\n",
            "6\n",
            "7\n",
            "8\n",
            "9\n",
            "10\n",
            "11\n",
            "14\n",
            "20\n",
            "22\n"
          ]
        }
      ]
    },
    {
      "cell_type": "code",
      "source": [
        "dfs_pre_order(node10)"
      ],
      "metadata": {
        "colab": {
          "base_uri": "https://localhost:8080/"
        },
        "id": "q91Z2L5emCzZ",
        "outputId": "bac94745-fd1e-467c-a52e-0000aa392851"
      },
      "execution_count": 14,
      "outputs": [
        {
          "output_type": "stream",
          "name": "stdout",
          "text": [
            "10\n",
            "7\n",
            "6\n",
            "1\n",
            "8\n",
            "9\n",
            "11\n",
            "20\n",
            "14\n",
            "22\n"
          ]
        }
      ]
    },
    {
      "cell_type": "code",
      "source": [
        "dfs_post_order(node10)"
      ],
      "metadata": {
        "colab": {
          "base_uri": "https://localhost:8080/"
        },
        "id": "YAIULu6dmlXX",
        "outputId": "b0d0dabf-c7d0-41fc-d298-5d21cefca760"
      },
      "execution_count": 17,
      "outputs": [
        {
          "output_type": "stream",
          "name": "stdout",
          "text": [
            "1\n",
            "6\n",
            "9\n",
            "8\n",
            "7\n",
            "14\n",
            "22\n",
            "20\n",
            "11\n",
            "10\n"
          ]
        }
      ]
    }
  ]
}