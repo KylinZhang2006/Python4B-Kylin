{
  "nbformat": 4,
  "nbformat_minor": 0,
  "metadata": {
    "colab": {
      "provenance": []
    },
    "kernelspec": {
      "name": "python3",
      "display_name": "Python 3"
    },
    "language_info": {
      "name": "python"
    }
  },
  "cells": [
    {
      "cell_type": "markdown",
      "source": [
        "## 1. CCC 2015 J3, J4 (Score: 30)"
      ],
      "metadata": {
        "id": "BDlyVk0epF7r"
      }
    },
    {
      "cell_type": "markdown",
      "source": [
        "### Problem J3: Rovarspr ¨ aket"
      ],
      "metadata": {
        "id": "H5D-fEKtSvOM"
      }
    },
    {
      "cell_type": "code",
      "source": [
        "alphabet_list = [\"a\", \"b\", \"c\", \"d\", \"e\", \"f\", \"g\",\n",
        "                 \"h\", \"i\", \"j\", \"k\", \"l\", \"m\", \"n\", \n",
        "                 \"o\", \"p\", \"q\", \"r\", \"s\", \"t\", \n",
        "                 \"u\", \"v\", \"w\", \"x\", \"y\", \"z\"]\n",
        "vowel = [\"a\", \"e\", \"i\", \"o\", \"u\"]\n",
        "vowel_index = [0, 4, 8, 15, 20]\n",
        "s = input()\n",
        "result = \"\"\n",
        "\n",
        "for char in s:\n",
        "  result += char\n",
        "  if char in vowel:\n",
        "    continue\n",
        "  else:\n",
        "    index = alphabet_list.index(char)\n",
        "    closest_vowel_distance = 27\n",
        "    closest_vowel = \"\"\n",
        "    for v in vowel_index:\n",
        "      if abs(index - v) < closest_vowel_distance:\n",
        "        closest_vowel_distance = abs(index - v)\n",
        "        index_vowel = vowel_index.index(v)\n",
        "        closest_vowel = vowel[index_vowel]\n",
        "    result += closest_vowel\n",
        "    if alphabet_list[index + 1] not in vowel:\n",
        "      result += alphabet_list[index + 1]\n",
        "    else:\n",
        "      result += alphabet_list[index + 2]\n",
        "\n",
        "print(result)"
      ],
      "metadata": {
        "colab": {
          "base_uri": "https://localhost:8080/"
        },
        "id": "yL0OOJ0_S5-A",
        "outputId": "44fbdcc3-86ae-4f06-a0a9-f8b3eb47c674"
      },
      "execution_count": null,
      "outputs": [
        {
          "output_type": "stream",
          "name": "stdout",
          "text": [
            "ham\n",
            "hijamon\n"
          ]
        }
      ]
    },
    {
      "cell_type": "markdown",
      "source": [
        "Excellent! Very smart way to handle the input.\n",
        "\n",
        "Score: 15/15"
      ],
      "metadata": {
        "id": "etY19gWzfQgQ"
      }
    },
    {
      "cell_type": "code",
      "source": [
        "# cheat way\n",
        "word = input()\n",
        "\n",
        "consonant=\"bcdfghjklmnpqrstvwxyz\"\n",
        "closestVowel=\"aaeeeiiiiooooouuuuuuu\"\n",
        "nextConsonant=\"cdfghjklmnpqrstvwxyzz\"\n",
        "\n",
        "newWord = \"\"\n",
        "for i in range(len(word)):\n",
        "    j = consonant.find(word[i])\n",
        "    newWord = newWord + word[i]  # the orginal letter\n",
        "    if j > -1:                   # if it's not a vowel add the closest vowel and\n",
        "                                 # next consonant   \n",
        "        newWord = newWord + closestVowel [j] + nextConsonant[j]\n",
        "print(newWord)"
      ],
      "metadata": {
        "colab": {
          "base_uri": "https://localhost:8080/"
        },
        "id": "BqA-Oyn-ztgU",
        "outputId": "0cd98c79-0a43-4bc8-9039-bc2676bd7379"
      },
      "execution_count": null,
      "outputs": [
        {
          "output_type": "stream",
          "name": "stdout",
          "text": [
            "ham\n",
            "hijamon\n"
          ]
        }
      ]
    },
    {
      "cell_type": "markdown",
      "source": [
        "### Problem J4: Wait Time"
      ],
      "metadata": {
        "id": "dEJNh1EFYYNJ"
      }
    },
    {
      "cell_type": "code",
      "source": [
        "M = int(input())\n",
        "\n",
        "messages = []\n",
        "for i in range(M):\n",
        "  s = input()\n",
        "  message = s.split()\n",
        "  messages.append([message[0], int(message[1])])\n",
        "\n",
        "friends = []\n",
        "for message in messages:\n",
        "  if message[0] == \"R\":\n",
        "    friends.append(message[1])\n",
        "\n",
        "for friend in friends:\n",
        "  count = 0\n",
        "  time = 0\n",
        "  received_time = []\n",
        "  sent_time = []\n",
        "  for message in messages:\n",
        "    if message[0] == \"R\" and message[1] == friend:\n",
        "      received_time.append(count)\n",
        "    elif message[0] == \"S\" and message[1] == friend:\n",
        "      sent_time.append(count)\n",
        "    count += 1\n",
        "\n",
        "  if len(received_time) != len(sent_time):\n",
        "    time = -1\n",
        "  for i in range(len(received_time)):\n",
        "    waiting_time = 0\n",
        "    for j in range(received_time[i], sent_time[i]):\n",
        "      if messages[j][0] == \"W\":\n",
        "        waiting_time += messages[j][1] - j\n",
        "    time += (sent_time[i] - received_time[i]) + waiting_time\n",
        "  print(friend, time)\n",
        "\n",
        "\n",
        "\n",
        "      \n"
      ],
      "metadata": {
        "colab": {
          "base_uri": "https://localhost:8080/",
          "height": 544
        },
        "id": "WxloXtB1Ya-_",
        "outputId": "ff6070c1-51cc-473e-9fe3-1f5283d16ae8"
      },
      "execution_count": null,
      "outputs": [
        {
          "output_type": "stream",
          "name": "stdout",
          "text": [
            "14\n",
            "R 12\n",
            "W 2\n",
            "R 23\n",
            "W 3\n",
            "R 45\n",
            "S 45\n",
            "R 45\n",
            "S 23\n",
            "R 23\n",
            "W 2\n",
            "S 23\n",
            "R 34\n",
            "S 12\n",
            "S 34\n",
            "12 6\n",
            "23 0\n"
          ]
        },
        {
          "output_type": "error",
          "ename": "IndexError",
          "evalue": "ignored",
          "traceback": [
            "\u001b[0;31m---------------------------------------------------------------------------\u001b[0m",
            "\u001b[0;31mIndexError\u001b[0m                                Traceback (most recent call last)",
            "\u001b[0;32m<ipython-input-12-475ca90110f5>\u001b[0m in \u001b[0;36m<module>\u001b[0;34m\u001b[0m\n\u001b[1;32m     28\u001b[0m   \u001b[0;32mfor\u001b[0m \u001b[0mi\u001b[0m \u001b[0;32min\u001b[0m \u001b[0mrange\u001b[0m\u001b[0;34m(\u001b[0m\u001b[0mlen\u001b[0m\u001b[0;34m(\u001b[0m\u001b[0mreceived_time\u001b[0m\u001b[0;34m)\u001b[0m\u001b[0;34m)\u001b[0m\u001b[0;34m:\u001b[0m\u001b[0;34m\u001b[0m\u001b[0;34m\u001b[0m\u001b[0m\n\u001b[1;32m     29\u001b[0m     \u001b[0mwaiting_time\u001b[0m \u001b[0;34m=\u001b[0m \u001b[0;36m0\u001b[0m\u001b[0;34m\u001b[0m\u001b[0;34m\u001b[0m\u001b[0m\n\u001b[0;32m---> 30\u001b[0;31m     \u001b[0;32mfor\u001b[0m \u001b[0mj\u001b[0m \u001b[0;32min\u001b[0m \u001b[0mrange\u001b[0m\u001b[0;34m(\u001b[0m\u001b[0mreceived_time\u001b[0m\u001b[0;34m[\u001b[0m\u001b[0mi\u001b[0m\u001b[0;34m]\u001b[0m\u001b[0;34m,\u001b[0m \u001b[0msent_time\u001b[0m\u001b[0;34m[\u001b[0m\u001b[0mi\u001b[0m\u001b[0;34m]\u001b[0m\u001b[0;34m)\u001b[0m\u001b[0;34m:\u001b[0m\u001b[0;34m\u001b[0m\u001b[0;34m\u001b[0m\u001b[0m\n\u001b[0m\u001b[1;32m     31\u001b[0m       \u001b[0;32mif\u001b[0m \u001b[0mmessages\u001b[0m\u001b[0;34m[\u001b[0m\u001b[0mj\u001b[0m\u001b[0;34m]\u001b[0m\u001b[0;34m[\u001b[0m\u001b[0;36m0\u001b[0m\u001b[0;34m]\u001b[0m \u001b[0;34m==\u001b[0m \u001b[0;34m\"W\"\u001b[0m\u001b[0;34m:\u001b[0m\u001b[0;34m\u001b[0m\u001b[0;34m\u001b[0m\u001b[0m\n\u001b[1;32m     32\u001b[0m         \u001b[0mwaiting_time\u001b[0m \u001b[0;34m+=\u001b[0m \u001b[0mmessages\u001b[0m\u001b[0;34m[\u001b[0m\u001b[0mj\u001b[0m\u001b[0;34m]\u001b[0m\u001b[0;34m[\u001b[0m\u001b[0;36m1\u001b[0m\u001b[0;34m]\u001b[0m \u001b[0;34m-\u001b[0m \u001b[0mj\u001b[0m\u001b[0;34m\u001b[0m\u001b[0;34m\u001b[0m\u001b[0m\n",
            "\u001b[0;31mIndexError\u001b[0m: list index out of range"
          ]
        }
      ]
    },
    {
      "cell_type": "markdown",
      "source": [
        "Score: 10/15\n",
        "\n",
        "Please check my solutions here:"
      ],
      "metadata": {
        "id": "hgjKUseqPbwG"
      }
    },
    {
      "cell_type": "code",
      "source": [
        "M = int(input())\n",
        "\n",
        "friend_to_time = {} # every key_value pairt is {friend: [R_time, wait_time]}\n",
        "time = -1\n",
        "for i in range(M):\n",
        "    line = input().split()\n",
        "    letter = line[0]\n",
        "    friend = int(line[1])\n",
        "\n",
        "    if letter == \"W\":\n",
        "        time = time + friend - 1   # in this case friend is time instead of friend number\n",
        "                                   # the -1 is there because +1 will be added next time\n",
        "    else:\n",
        "        time = time + 1\n",
        "\n",
        "    if letter != \"W\":\n",
        "        if letter == \"R\":       \n",
        "            #if found, put inthe time of the message, otherwise add a new element to the database\n",
        "            if friend in friend_to_time:\n",
        "                friend_to_time[friend][0] = time\n",
        "            else:\n",
        "                friend_to_time[friend] = [time, 0]\n",
        "        elif letter == \"S\":\n",
        "            # it will be found, so no check is done\n",
        "            friend_to_time[friend][1] = friend_to_time[friend][1] + (time - friend_to_time[friend][0]) # waiting time\n",
        "            friend_to_time[friend][0] = -1 # reset the R_time\n"
      ],
      "metadata": {
        "colab": {
          "base_uri": "https://localhost:8080/"
        },
        "id": "Ztb_YzHxIwtw",
        "outputId": "c610cecf-d9ff-4b55-de07-3e9d1fb57c4c"
      },
      "execution_count": 8,
      "outputs": [
        {
          "name": "stdout",
          "output_type": "stream",
          "text": [
            "14\n",
            "R 12\n",
            "W 2\n",
            "R 23\n",
            "W 3\n",
            "R 45\n",
            "S 45\n",
            "R 45\n",
            "S 23\n",
            "R 23\n",
            "W 2\n",
            "S 23\n",
            "R 34\n",
            "S 12\n",
            "S 34\n"
          ]
        }
      ]
    },
    {
      "cell_type": "code",
      "source": [
        "friend_to_time"
      ],
      "metadata": {
        "colab": {
          "base_uri": "https://localhost:8080/"
        },
        "id": "UqOQ_m17ME9h",
        "outputId": "46123f86-0bac-49bb-d5cb-de85fcf4a391"
      },
      "execution_count": 9,
      "outputs": [
        {
          "output_type": "execute_result",
          "data": {
            "text/plain": [
              "{12: [-1, 13], 23: [-1, 8], 45: [7, 1], 34: [-1, 2]}"
            ]
          },
          "metadata": {},
          "execution_count": 9
        }
      ]
    },
    {
      "cell_type": "code",
      "source": [
        "friends = list(friend_to_time.keys())\n",
        "friends.sort()\n",
        "for friend in friends:\n",
        "  if friend_to_time[friend][0] == -1:\n",
        "    print(\"{} {}\".format(friend, friend_to_time[friend][1]))\n",
        "  else:\n",
        "    print(\"{} {}\".format(friend, -1))"
      ],
      "metadata": {
        "colab": {
          "base_uri": "https://localhost:8080/"
        },
        "id": "QJ23tMdIOVMF",
        "outputId": "4113d534-e0cb-447d-a561-62d898f32f97"
      },
      "execution_count": 10,
      "outputs": [
        {
          "output_type": "stream",
          "name": "stdout",
          "text": [
            "12 13\n",
            "23 8\n",
            "34 2\n",
            "45 -1\n"
          ]
        }
      ]
    },
    {
      "cell_type": "markdown",
      "source": [
        "## 2. CCC 2021 J1, J2 (Score: 30)"
      ],
      "metadata": {
        "id": "Jaa9454UpSQt"
      }
    },
    {
      "cell_type": "markdown",
      "source": [
        "### Problem J1: Boiling Water"
      ],
      "metadata": {
        "id": "Gcnv3-t_Pvjf"
      }
    },
    {
      "cell_type": "code",
      "source": [
        "B = int(input())\n",
        "P = 5 * B - 400\n",
        "print(P)\n",
        "if P > 100:\n",
        "  print(-1)\n",
        "elif P < 100:\n",
        "  print(1)\n",
        "else:\n",
        "  print(0)\n",
        "\n"
      ],
      "metadata": {
        "colab": {
          "base_uri": "https://localhost:8080/"
        },
        "id": "KySeXIVLPy_S",
        "outputId": "1666d3b1-ec51-409a-ad8f-259d2619ff68"
      },
      "execution_count": null,
      "outputs": [
        {
          "output_type": "stream",
          "name": "stdout",
          "text": [
            "102\n",
            "110\n",
            "-1\n"
          ]
        }
      ]
    },
    {
      "cell_type": "markdown",
      "source": [
        "Excellent!\n",
        "\n",
        "Score: 15/15"
      ],
      "metadata": {
        "id": "tpeuPvtPPpkN"
      }
    },
    {
      "cell_type": "markdown",
      "source": [
        "### Problem J2: Silent Auction"
      ],
      "metadata": {
        "id": "gTGejwdYQ9px"
      }
    },
    {
      "cell_type": "code",
      "source": [
        "N = int(input())\n",
        "bid_record = 0\n",
        "name_record = \"\"\n",
        "for i in range(N):\n",
        "  name = input()\n",
        "  bid = int(input())\n",
        "  if bid > bid_record:\n",
        "    bid_record = bid\n",
        "    name_record = name\n",
        "print(name_record)\n",
        "\n",
        "   "
      ],
      "metadata": {
        "colab": {
          "base_uri": "https://localhost:8080/"
        },
        "id": "_NXexC2ARLsd",
        "outputId": "6b9984c7-aad2-4a38-9145-5ea5a462185b"
      },
      "execution_count": null,
      "outputs": [
        {
          "output_type": "stream",
          "name": "stdout",
          "text": [
            "2\n",
            "Ijeoma\n",
            "20\n",
            "Goor\n",
            "20\n",
            "Ijeoma\n"
          ]
        }
      ]
    },
    {
      "cell_type": "markdown",
      "source": [
        "Excellent!\n",
        "\n",
        "Score: 15/15"
      ],
      "metadata": {
        "id": "bFFgKTJtPrfH"
      }
    }
  ]
}