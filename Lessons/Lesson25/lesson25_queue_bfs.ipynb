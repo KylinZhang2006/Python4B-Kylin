{
  "nbformat": 4,
  "nbformat_minor": 0,
  "metadata": {
    "colab": {
      "provenance": []
    },
    "kernelspec": {
      "name": "python3",
      "display_name": "Python 3"
    },
    "language_info": {
      "name": "python"
    }
  },
  "cells": [
    {
      "cell_type": "markdown",
      "source": [
        "### Queue\n"
      ],
      "metadata": {
        "id": "BqVhr5mj2oTo"
      }
    },
    {
      "cell_type": "markdown",
      "source": [
        "Use lists to implement a queue. Follow the FIFO principle."
      ],
      "metadata": {
        "id": "GUmWyjCG2sGE"
      }
    },
    {
      "cell_type": "code",
      "source": [
        "queue = [1,2,3]"
      ],
      "metadata": {
        "id": "fVajYHyC2rIU"
      },
      "execution_count": 8,
      "outputs": []
    },
    {
      "cell_type": "markdown",
      "source": [
        "enqueue an element to a queue.(to the end)"
      ],
      "metadata": {
        "id": "cRrhIK8b21e4"
      }
    },
    {
      "cell_type": "code",
      "execution_count": 9,
      "metadata": {
        "colab": {
          "base_uri": "https://localhost:8080/"
        },
        "id": "BWNF0GGw2mfr",
        "outputId": "fb3309ea-d013-4dd2-eea9-522ebb184aab"
      },
      "outputs": [
        {
          "output_type": "execute_result",
          "data": {
            "text/plain": [
              "[1, 2, 3, 4]"
            ]
          },
          "metadata": {},
          "execution_count": 9
        }
      ],
      "source": [
        "queue.append(4) # append(new element)\n",
        "queue"
      ]
    },
    {
      "cell_type": "markdown",
      "source": [
        "dequeue an element from the queue. (from the front)"
      ],
      "metadata": {
        "id": "V_zDrJ6D3Ut8"
      }
    },
    {
      "cell_type": "code",
      "source": [
        "queue.pop(0) # pop(0)\n",
        "queue"
      ],
      "metadata": {
        "colab": {
          "base_uri": "https://localhost:8080/"
        },
        "id": "JSQCAWzT3Qdo",
        "outputId": "cbc430db-d528-4906-d115-fd4f1bc6c7a2"
      },
      "execution_count": 10,
      "outputs": [
        {
          "output_type": "execute_result",
          "data": {
            "text/plain": [
              "[2, 3, 4]"
            ]
          },
          "metadata": {},
          "execution_count": 10
        }
      ]
    },
    {
      "cell_type": "markdown",
      "source": [
        "### BFS"
      ],
      "metadata": {
        "id": "ZSUgurYa6fEf"
      }
    },
    {
      "cell_type": "code",
      "source": [
        "# construct a graph\n",
        "graph = {\n",
        "    5:[3,7],\n",
        "    3:[2,4],\n",
        "    7:[8],\n",
        "    2:[],\n",
        "    4:[8],\n",
        "    8:[]\n",
        "}\n",
        "\n",
        "# construct a queue and a visited list\n",
        "visited = []\n",
        "queue = []\n",
        "\n",
        "# bfs\n",
        "def bfs(graph, root):\n",
        "  visited.append(root)\n",
        "  queue.append(root)\n",
        "  # as long as the queue is not empty\n",
        "  while queue:\n",
        "    head = queue.pop(0)\n",
        "    print(head, end = \" \")\n",
        "    for child in graph[head]: # child nodes\n",
        "      if child not in visited:\n",
        "        queue.append(child)\n",
        "        visited.append(child)\n",
        "\n",
        "bfs(graph, 5)"
      ],
      "metadata": {
        "colab": {
          "base_uri": "https://localhost:8080/"
        },
        "id": "VDbK7iRp6hC4",
        "outputId": "2523847c-f1b3-449b-a505-9f332822567e"
      },
      "execution_count": 16,
      "outputs": [
        {
          "output_type": "stream",
          "name": "stdout",
          "text": [
            "5 3 7 2 4 8 "
          ]
        }
      ]
    },
    {
      "cell_type": "code",
      "source": [
        "# construct the graph\n",
        "graph = {\n",
        "   'A':['B','C','D'],\n",
        "   'B':['A','D','E'],\n",
        "   'C':['A','D'],\n",
        "   'D':['A','B','C','E'],\n",
        "   'E':['B','D']\n",
        "}\n",
        "# construct a queue and a visited list\n",
        "visited = []\n",
        "queue = []\n",
        "\n",
        "# bfs\n",
        "def bfs(graph, root):\n",
        "  visited.append(root)\n",
        "  queue.append(root)\n",
        "  while queue:\n",
        "    head = queue.pop(0)\n",
        "    print(head, end = \" \")\n",
        "    for child in graph[head]: # child nodes\n",
        "      if child not in visited:\n",
        "        queue.append(child)\n",
        "        visited.append(child)\n",
        "\n",
        "bfs(graph,'A')"
      ],
      "metadata": {
        "colab": {
          "base_uri": "https://localhost:8080/"
        },
        "id": "S88vJnFT-Qmi",
        "outputId": "ad6bc687-2167-4f5d-c277-548a06ec37ed"
      },
      "execution_count": 20,
      "outputs": [
        {
          "output_type": "stream",
          "name": "stdout",
          "text": [
            "A B C D E "
          ]
        }
      ]
    }
  ]
}