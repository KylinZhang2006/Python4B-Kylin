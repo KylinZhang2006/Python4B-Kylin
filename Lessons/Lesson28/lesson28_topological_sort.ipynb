{
  "nbformat": 4,
  "nbformat_minor": 0,
  "metadata": {
    "colab": {
      "provenance": []
    },
    "kernelspec": {
      "name": "python3",
      "display_name": "Python 3"
    },
    "language_info": {
      "name": "python"
    }
  },
  "cells": [
    {
      "cell_type": "code",
      "execution_count": 6,
      "metadata": {
        "id": "b1HD_0pzago1"
      },
      "outputs": [],
      "source": [
        "class Graph:\n",
        "  def __init__(self, vertices):\n",
        "    self.vertices = vertices  # No. of vertices, let's assume the value of the node is from 0 - vertices-1\n",
        "    self.graph = {}  # dictionary containing adjacency List\n",
        "    self.inDegree = {} # dictionary, key-vertex, value-number of incoming edges\n",
        "    for i in range(vertices):\n",
        "      self.graph[i] = [] # initialize\n",
        "      self.inDegree[i] = 0 # initialize\n",
        " \n",
        "  # function to add an edge to graph\n",
        "  def addEdge(self, u, v):\n",
        "    self.graph[u].append(v)\n",
        "    self.inDegree[v] += 1\n",
        "\n",
        "  def sort(self):\n",
        "    sources = []\n",
        "    # find the sources (indegree = 0)\n",
        "    for node in self.inDegree:\n",
        "      if self.inDegree[node] == 0:\n",
        "        sources.append(node)\n",
        "    while sources:\n",
        "      head = sources.pop(0)\n",
        "      print(head)\n",
        "      if head in self.graph:\n",
        "        for child in self.graph[head]:\n",
        "          self.inDegree[child] -= 1\n",
        "          if self.inDegree[child] == 0:\n",
        "            sources.append(child)"
      ]
    },
    {
      "cell_type": "code",
      "source": [
        "g1 = Graph(7)\n",
        "g1.addEdge(5, 3)\n",
        "g1.addEdge(5, 4)\n",
        "g1.addEdge(6, 2)\n",
        "g1.addEdge(6, 4)\n",
        "g1.addEdge(3, 0)\n",
        "g1.addEdge(3, 1)\n",
        "g1.addEdge(3, 2)\n",
        "g1.addEdge(4, 1)"
      ],
      "metadata": {
        "id": "JPkSjka-dyT5"
      },
      "execution_count": 7,
      "outputs": []
    },
    {
      "cell_type": "code",
      "source": [
        "g1.graph"
      ],
      "metadata": {
        "colab": {
          "base_uri": "https://localhost:8080/"
        },
        "id": "gXKLZgv5eNUZ",
        "outputId": "cf593be8-d8d0-4662-a560-57bf573f1fe5"
      },
      "execution_count": 8,
      "outputs": [
        {
          "output_type": "execute_result",
          "data": {
            "text/plain": [
              "{0: [], 1: [], 2: [], 3: [0, 1, 2], 4: [1], 5: [3, 4], 6: [2, 4]}"
            ]
          },
          "metadata": {},
          "execution_count": 8
        }
      ]
    },
    {
      "cell_type": "code",
      "source": [
        "g1.inDegree"
      ],
      "metadata": {
        "colab": {
          "base_uri": "https://localhost:8080/"
        },
        "id": "Lf_2vJOzeRn_",
        "outputId": "4f579b50-1faf-4f25-f7a5-4cac7234b1f1"
      },
      "execution_count": 9,
      "outputs": [
        {
          "output_type": "execute_result",
          "data": {
            "text/plain": [
              "{0: 1, 1: 2, 2: 2, 3: 1, 4: 2, 5: 0, 6: 0}"
            ]
          },
          "metadata": {},
          "execution_count": 9
        }
      ]
    },
    {
      "cell_type": "code",
      "source": [
        "g1.sort()"
      ],
      "metadata": {
        "colab": {
          "base_uri": "https://localhost:8080/"
        },
        "id": "EsdGkMpaeUy-",
        "outputId": "c9dff0a2-891f-46b5-abd3-6b87758b7c4f"
      },
      "execution_count": 10,
      "outputs": [
        {
          "output_type": "stream",
          "name": "stdout",
          "text": [
            "5\n",
            "6\n",
            "3\n",
            "4\n",
            "0\n",
            "2\n",
            "1\n"
          ]
        }
      ]
    },
    {
      "cell_type": "code",
      "source": [
        "g2 = Graph(6)\n",
        "g2.addEdge(5, 2)\n",
        "g2.addEdge(5, 0)\n",
        "g2.addEdge(4, 0)\n",
        "g2.addEdge(4, 1)\n",
        "g2.addEdge(2, 3)\n",
        "g2.addEdge(3, 1)\n",
        "g2.graph "
      ],
      "metadata": {
        "colab": {
          "base_uri": "https://localhost:8080/"
        },
        "id": "SyS3eszUdwjv",
        "outputId": "a9bf74b2-96be-44ad-b27c-f66411b050b5"
      },
      "execution_count": 11,
      "outputs": [
        {
          "output_type": "execute_result",
          "data": {
            "text/plain": [
              "{0: [], 1: [], 2: [3], 3: [1], 4: [0, 1], 5: [2, 0]}"
            ]
          },
          "metadata": {},
          "execution_count": 11
        }
      ]
    },
    {
      "cell_type": "code",
      "source": [
        "g2.inDegree"
      ],
      "metadata": {
        "colab": {
          "base_uri": "https://localhost:8080/"
        },
        "id": "Q637DwSDeopm",
        "outputId": "982c9466-5250-40e5-b1b4-84875a35380b"
      },
      "execution_count": 12,
      "outputs": [
        {
          "output_type": "execute_result",
          "data": {
            "text/plain": [
              "{0: 2, 1: 2, 2: 1, 3: 1, 4: 0, 5: 0}"
            ]
          },
          "metadata": {},
          "execution_count": 12
        }
      ]
    },
    {
      "cell_type": "code",
      "source": [
        "g2.sort()"
      ],
      "metadata": {
        "colab": {
          "base_uri": "https://localhost:8080/"
        },
        "id": "GhLdC5Ageqdx",
        "outputId": "31d94112-8541-49fb-ae46-efd0095dd6e9"
      },
      "execution_count": 13,
      "outputs": [
        {
          "output_type": "stream",
          "name": "stdout",
          "text": [
            "4\n",
            "5\n",
            "2\n",
            "0\n",
            "3\n",
            "1\n"
          ]
        }
      ]
    },
    {
      "cell_type": "code",
      "source": [
        "N = input()\n",
        "class Node:\n",
        "  def _init_(self, move, level):\n",
        "    self.move = move # [3,12,_]\n",
        "    self.level = level\n",
        "\n",
        "def done(move):\n",
        "  global N\n",
        "  i = 0\n",
        "  while i < N and move[i] == str(i+1):\n",
        "    i = i + 1\n",
        "  return i == N\n",
        "\n",
        "def bfs(move):\n",
        "  if done(move):\n",
        "    return --level--"
      ],
      "metadata": {
        "id": "0_W9cPUejn3y"
      },
      "execution_count": null,
      "outputs": []
    }
  ]
}