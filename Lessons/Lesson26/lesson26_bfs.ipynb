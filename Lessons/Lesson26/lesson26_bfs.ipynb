{
  "nbformat": 4,
  "nbformat_minor": 0,
  "metadata": {
    "colab": {
      "provenance": []
    },
    "kernelspec": {
      "name": "python3",
      "display_name": "Python 3"
    },
    "language_info": {
      "name": "python"
    }
  },
  "cells": [
    {
      "cell_type": "markdown",
      "source": [
        "**Leetcode 102** Binary Tree Level Order Traversal\n",
        "\n",
        "https://leetcode.com/problems/binary-tree-level-order-traversal/description/\n"
      ],
      "metadata": {
        "id": "1rLtTjtPyLMV"
      }
    },
    {
      "cell_type": "code",
      "source": [
        "# Definition for a binary tree node.\n",
        "class TreeNode(object):\n",
        "    def __init__(self, val=0, left=None, right=None):\n",
        "        self.val = val\n",
        "        self.left = left\n",
        "        self.right = right"
      ],
      "metadata": {
        "id": "k7W9Rtjy6_jM"
      },
      "execution_count": 1,
      "outputs": []
    },
    {
      "cell_type": "code",
      "source": [
        "treeNode7 = TreeNode(7)\n",
        "treeNode15 = TreeNode(15)\n",
        "treeNode20 = TreeNode(20, treeNode15, treeNode7)\n",
        "treeNode9 = TreeNode(9)\n",
        "treeNode3 = TreeNode(3, treeNode9, treeNode20)"
      ],
      "metadata": {
        "id": "zGZHv80wCdP1"
      },
      "execution_count": null,
      "outputs": []
    },
    {
      "cell_type": "code",
      "source": [
        "treeNode3 = TreeNode(3)\n",
        "treeNode9 = TreeNode(9)\n",
        "treeNode20 = TreeNode(20)\n",
        "treeNode15 = TreeNode(15)\n",
        "treeNode7 = TreeNode(7)\n",
        "#connect the tree\n",
        "treeNode3.left = treeNode9\n",
        "treeNode3.right = treeNode20\n",
        "treeNode20.left = treeNode15\n",
        "treeNode20.right = treeNode7"
      ],
      "metadata": {
        "id": "YcV7AewiCCZE"
      },
      "execution_count": null,
      "outputs": []
    },
    {
      "cell_type": "code",
      "execution_count": 14,
      "metadata": {
        "id": "MIsKe0CoyKVF"
      },
      "outputs": [],
      "source": [
        "class Solution:\n",
        "    def levelOrder(self, root):\n",
        "        \"\"\"\n",
        "        :type root: TreeNode\n",
        "        :rtype: List[List[int]]\n",
        "        \"\"\"\n",
        "        levels = []\n",
        "        # corner case: root is None\n",
        "        if not root:\n",
        "            return levels\n",
        "        \n",
        "        level = 0\n",
        "        queue = []\n",
        "        queue.append(root)\n",
        "        while queue:\n",
        "            # start the current level\n",
        "            levels.append([])\n",
        "            # number of elements in the current level \n",
        "            level_length = len(queue)\n",
        "            \n",
        "            for i in range(level_length):\n",
        "                node = queue.pop(0)\n",
        "                # fulfill the current level\n",
        "                levels[level].append(node.val)\n",
        "                \n",
        "                # add child nodes of the current level\n",
        "                # in the queue for the next level\n",
        "                if node.left:\n",
        "                    queue.append(node.left) # append the left treeNode\n",
        "                if node.right:\n",
        "                    queue.append(node.right) # append the right treeNode\n",
        "            \n",
        "            # go to next level\n",
        "            level += 1\n",
        "        return levels"
      ]
    },
    {
      "cell_type": "code",
      "source": [
        "Solution.levelOrder(_,treeNode3)"
      ],
      "metadata": {
        "colab": {
          "base_uri": "https://localhost:8080/"
        },
        "id": "8BPHf3-M7slt",
        "outputId": "d4db8078-9d43-45d5-b403-d497660bfb45"
      },
      "execution_count": 15,
      "outputs": [
        {
          "output_type": "execute_result",
          "data": {
            "text/plain": [
              "[[3], [9, 20], [15, 7]]"
            ]
          },
          "metadata": {},
          "execution_count": 15
        }
      ]
    },
    {
      "cell_type": "markdown",
      "source": [
        "### CCC 2020 J5"
      ],
      "metadata": {
        "id": "pwUYzzgcGi8Y"
      }
    },
    {
      "cell_type": "code",
      "source": [],
      "metadata": {
        "colab": {
          "base_uri": "https://localhost:8080/"
        },
        "id": "CxD6lPusGiky",
        "outputId": "cbae4927-f99a-4168-afc7-d3f18a8010ed"
      },
      "execution_count": 16,
      "outputs": [
        {
          "name": "stdout",
          "output_type": "stream",
          "text": [
            "3\n",
            "4\n",
            "3 10 8 14\n",
            "1 11 12 12\n",
            "6 2 3 9\n"
          ]
        }
      ]
    },
    {
      "cell_type": "code",
      "source": [
        "lst"
      ],
      "metadata": {
        "colab": {
          "base_uri": "https://localhost:8080/"
        },
        "id": "_qXQN6xSGz2c",
        "outputId": "18cb12b7-7ac9-4c36-854f-5b4815134c27"
      },
      "execution_count": 17,
      "outputs": [
        {
          "output_type": "execute_result",
          "data": {
            "text/plain": [
              "[[3, 10, 8, 14], [1, 11, 12, 12], [6, 2, 3, 9]]"
            ]
          },
          "metadata": {},
          "execution_count": 17
        }
      ]
    },
    {
      "cell_type": "code",
      "source": [
        "def factor(value):# it returns the real index of the jump-to cube in the lst\n",
        "  global M\n",
        "  global N\n",
        "  result = []\n",
        "  for factor1 in range(1, int(value**0.5) + 1): ### remember!!!!\n",
        "    if value % factor1 == 0:\n",
        "      factor2 = value // factor1\n",
        "      if factor1 <= M and factor2 <= N:\n",
        "        result.append(lst[factor1 - 1][factor2 - 1])\n",
        "      if factor1 <= N and factor2 <= M:\n",
        "        result.append(lst[factor2 - 1][factor1 - 1])\n",
        "  return result\n",
        "factor(8)"
      ],
      "metadata": {
        "colab": {
          "base_uri": "https://localhost:8080/"
        },
        "id": "ITyJ_LDLG3Ps",
        "outputId": "5bf5ba29-88a4-4a47-8615-c10e98c60afd"
      },
      "execution_count": 20,
      "outputs": [
        {
          "output_type": "execute_result",
          "data": {
            "text/plain": [
              "[12]"
            ]
          },
          "metadata": {},
          "execution_count": 20
        }
      ]
    },
    {
      "cell_type": "code",
      "source": [
        "# construct the graph when\n",
        "# handle the input\n",
        "M = int(input())\n",
        "N = int(input())\n",
        "table = []\n",
        "graph = {}\n",
        "for i in range(M):\n",
        "  s = input()\n",
        "  #list comprehension - when you want to run a for loop and store the results in a list\n",
        "  #syntax: newList = [ expression(element) for element in oldList if condition ]\n",
        "  line = []\n",
        "  for node in s.split():\n",
        "    value = int(node)\n",
        "    line.append(value)\n",
        "    graph[value] = factor(value) # construct the graph\n",
        "  table.append(line)"
      ],
      "metadata": {
        "colab": {
          "base_uri": "https://localhost:8080/"
        },
        "id": "ceZ9aa0LH7MF",
        "outputId": "f93f1d03-84cc-49ce-f2e8-b53ed5003cc9"
      },
      "execution_count": 21,
      "outputs": [
        {
          "name": "stdout",
          "output_type": "stream",
          "text": [
            "3\n",
            "4\n",
            "3 10 8 14\n",
            "1 11 12 12\n",
            "6 2 3 9\n"
          ]
        }
      ]
    },
    {
      "cell_type": "code",
      "source": [
        "table"
      ],
      "metadata": {
        "colab": {
          "base_uri": "https://localhost:8080/"
        },
        "id": "vWtbSjrTJLae",
        "outputId": "6c1df31c-5193-491f-df4b-542d2856b503"
      },
      "execution_count": 22,
      "outputs": [
        {
          "output_type": "execute_result",
          "data": {
            "text/plain": [
              "[[3, 10, 8, 14], [1, 11, 12, 12], [6, 2, 3, 9]]"
            ]
          },
          "metadata": {},
          "execution_count": 22
        }
      ]
    },
    {
      "cell_type": "code",
      "source": [
        "graph"
      ],
      "metadata": {
        "colab": {
          "base_uri": "https://localhost:8080/"
        },
        "id": "lV7qF065JQh8",
        "outputId": "90d0b65e-654f-463b-bf73-09b6feed5f48"
      },
      "execution_count": 23,
      "outputs": [
        {
          "output_type": "execute_result",
          "data": {
            "text/plain": [
              "{3: [8, 6],\n",
              " 10: [],\n",
              " 8: [12],\n",
              " 14: [],\n",
              " 1: [3, 3],\n",
              " 11: [],\n",
              " 12: [9],\n",
              " 6: [12, 2],\n",
              " 2: [10, 1],\n",
              " 9: [3, 3]}"
            ]
          },
          "metadata": {},
          "execution_count": 23
        }
      ]
    },
    {
      "cell_type": "code",
      "source": [
        "def bfs(root, end):\n",
        "  visited = []\n",
        "  queue = []\n",
        "  queue.append(root)\n",
        "  while queue:\n",
        "    head = queue.pop(0)\n",
        "    print(head, end = \"->\")\n",
        "    if head == end:\n",
        "      print('yes')\n",
        "      return\n",
        "    for child in graph[head]:\n",
        "      if child not in visited:\n",
        "        visited.append(child)\n",
        "        queue.append(child)\n",
        "  print('no')\n",
        "bfs(table[1][1],table[M-1][N-1])"
      ],
      "metadata": {
        "colab": {
          "base_uri": "https://localhost:8080/"
        },
        "id": "r3Jtddb5KZnM",
        "outputId": "63b873b7-ecba-43a3-9f1b-5b4f6238084e"
      },
      "execution_count": 29,
      "outputs": [
        {
          "output_type": "stream",
          "name": "stdout",
          "text": [
            "11->no\n"
          ]
        }
      ]
    }
  ]
}