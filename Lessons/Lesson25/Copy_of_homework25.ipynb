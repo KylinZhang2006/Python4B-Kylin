{
  "nbformat": 4,
  "nbformat_minor": 0,
  "metadata": {
    "colab": {
      "provenance": []
    },
    "kernelspec": {
      "name": "python3",
      "display_name": "Python 3"
    },
    "language_info": {
      "name": "python"
    }
  },
  "cells": [
    {
      "cell_type": "markdown",
      "source": [
        "###1. Write the factor function to get a list of factor-pairs of a given value. (score: 10)\n"
      ],
      "metadata": {
        "id": "QThZSmF_3qtI"
      }
    },
    {
      "cell_type": "markdown",
      "source": [
        "\n",
        "Input: 8\n",
        "\n",
        "Output: [[1,8], [8,1], [2,4], [4,2]]"
      ],
      "metadata": {
        "id": "Mq5_HeROyUFS"
      }
    },
    {
      "cell_type": "code",
      "source": [
        "def factor(n):\n",
        "  result = []\n",
        "  for factor1 in range(1, int(n**0.5) + 1): ### remember!!!!\n",
        "    if n % factor1 == 0:\n",
        "      factor2 = n // factor1\n",
        "      result.append([factor1, factor2])\n",
        "      result.append([factor2, factor1])\n",
        "  return result\n",
        "print(factor(8))"
      ],
      "metadata": {
        "colab": {
          "base_uri": "https://localhost:8080/"
        },
        "id": "ZBRmJTOcyT6b",
        "outputId": "ef518ea3-4427-42d7-f768-c6474ab1e7d6"
      },
      "execution_count": null,
      "outputs": [
        {
          "output_type": "stream",
          "name": "stdout",
          "text": [
            "[[1, 8], [8, 1], [2, 4], [4, 2]]\n"
          ]
        }
      ]
    },
    {
      "cell_type": "markdown",
      "source": [
        "Excellent! \n",
        "\n",
        "Score: 10/10"
      ],
      "metadata": {
        "id": "M3535-8n9cIF"
      }
    },
    {
      "cell_type": "markdown",
      "source": [
        "### 2. Write the factor function for 2020J5. (score: 10)\n"
      ],
      "metadata": {
        "id": "J53s6HMUyTa1"
      }
    },
    {
      "cell_type": "markdown",
      "source": [
        "Input: 8 (assume M=3, N=4)\n",
        "\n",
        "Output: [[1,3]]"
      ],
      "metadata": {
        "id": "VlLGufOS38Rp"
      }
    },
    {
      "cell_type": "code",
      "source": [
        "M = 3\n",
        "N = 4\n",
        "\n",
        "def factor(n):\n",
        "  global N\n",
        "  global M\n",
        "  result = []\n",
        "  for factor1 in range(1, int(n**0.5) + 1): ### remember!!!!\n",
        "    if n % factor1 == 0:\n",
        "      factor2 = n // factor1\n",
        "      if factor1 <= M and factor2 <= N:\n",
        "        result.append([factor1 - 1, factor2 - 1])\n",
        "      if factor2 <= M and factor1 <= N:\n",
        "        result.append([factor2 - 1, factor1 - 1])\n",
        "  return result\n",
        "\n",
        "print(factor(8))"
      ],
      "metadata": {
        "colab": {
          "base_uri": "https://localhost:8080/"
        },
        "id": "Wq1fVUJlyTNN",
        "outputId": "dcdcf3b4-75ae-454f-cf71-138bfa04b27c"
      },
      "execution_count": null,
      "outputs": [
        {
          "output_type": "stream",
          "name": "stdout",
          "text": [
            "[[1, 3]]\n"
          ]
        }
      ]
    },
    {
      "cell_type": "markdown",
      "source": [
        "Excellent! \n",
        "\n",
        "Score: 10/10"
      ],
      "metadata": {
        "id": "U5t3uhTr9ifl"
      }
    },
    {
      "cell_type": "markdown",
      "source": [
        "###3. Write the BFS function for slides 10. (score: 15)"
      ],
      "metadata": {
        "id": "lXzT80_b2tEk"
      }
    },
    {
      "cell_type": "code",
      "source": [
        "graph = {\n",
        "    \"A\": [\"B\", \"C\"],\n",
        "    \"B\": [\"A\", \"D\", \"E\"],\n",
        "    \"C\": [\"A\", \"F\", \"G\"], \n",
        "    \"D\": [\"B\"],\n",
        "    \"E\": [\"B\"],\n",
        "    \"F\": [\"C\"],\n",
        "    \"G\": [\"C\"]\n",
        "}\n",
        "visited = []\n",
        "queue = []\n",
        "\n",
        "def bfs(graph, root):\n",
        "  visited.append(root)\n",
        "  queue.append(root)\n",
        "  while queue:\n",
        "    head = queue.pop(0)\n",
        "    print(head, end = \" \")\n",
        "    for child in graph[head]: # child nodes\n",
        "      if child not in visited:\n",
        "        queue.append(child)\n",
        "        visited.append(child)\n",
        "\n",
        "bfs(graph,\"A\")"
      ],
      "metadata": {
        "colab": {
          "base_uri": "https://localhost:8080/"
        },
        "id": "3uUHSIm12vzk",
        "outputId": "2158066d-b861-4e31-8ca3-18771cd9974a"
      },
      "execution_count": null,
      "outputs": [
        {
          "output_type": "stream",
          "name": "stdout",
          "text": [
            "A B C D E F G "
          ]
        }
      ]
    },
    {
      "cell_type": "markdown",
      "source": [
        "Excellent! \n",
        "\n",
        "Score: 15/15"
      ],
      "metadata": {
        "id": "3P2e0FnH9kB-"
      }
    },
    {
      "cell_type": "markdown",
      "source": [
        "###4. Write the BFS function for slides 12. (score: 15)"
      ],
      "metadata": {
        "id": "x2vXgUAA2sZi"
      }
    },
    {
      "cell_type": "code",
      "execution_count": null,
      "metadata": {
        "id": "3CzuuKuN2qra",
        "outputId": "14834331-9344-4e1d-a524-33a1587ab22b",
        "colab": {
          "base_uri": "https://localhost:8080/"
        }
      },
      "outputs": [
        {
          "output_type": "stream",
          "name": "stdout",
          "text": [
            "A B C D E "
          ]
        }
      ],
      "source": [
        "graph = {\n",
        "   'A':['B','C','D'],\n",
        "   'B':['A','D','E'],\n",
        "   'C':['A','D'],\n",
        "   'D':['A','B','C','E'],\n",
        "   'E':['B','D']\n",
        "}\n",
        "\n",
        "visited = []\n",
        "queue = []\n",
        "\n",
        "def bfs(graph, root):\n",
        "  visited.append(root)\n",
        "  queue.append(root)\n",
        "  while queue:\n",
        "    head = queue.pop(0)\n",
        "    print(head, end = \" \")\n",
        "    for child in graph[head]: # child nodes\n",
        "      if child not in visited:\n",
        "        queue.append(child)\n",
        "        visited.append(child)\n",
        "\n",
        "bfs(graph,'A')"
      ]
    },
    {
      "cell_type": "markdown",
      "source": [
        "Excellent! \n",
        "\n",
        "Score: 15/15"
      ],
      "metadata": {
        "id": "4RGO8PuR9n88"
      }
    },
    {
      "cell_type": "markdown",
      "source": [
        "###5.CCC 2020 J3 and J4. (score: 30)"
      ],
      "metadata": {
        "id": "UVUSmo1d3Tl1"
      }
    },
    {
      "cell_type": "markdown",
      "source": [
        "Problem J3: Art"
      ],
      "metadata": {
        "id": "hzgqK0BK3ehJ"
      }
    },
    {
      "cell_type": "code",
      "source": [
        "N = int(input())\n",
        "spots = []\n",
        "\n",
        "for i in range(N):\n",
        "  s = input()\n",
        "  spots.append(s.split(\",\"))\n",
        "\n",
        "x = 101\n",
        "y = 101\n",
        "\n",
        "for spot in spots:\n",
        "  if int(spot[0]) <= int(x):\n",
        "    x = spot[0]\n",
        "  if int(spot[1]) <= int(y):\n",
        "    y = spot[1]\n",
        "\n",
        "desired_x = []\n",
        "desired_y = []\n",
        "for spot in spots:\n",
        "  if int(spot[0]) == int(x):\n",
        "    desired_x = [int(spot[0]) - 1, int(spot[1]) + 1]\n",
        "  if int(spot[1]) == int(y):\n",
        "    desired_y = [int(spot[0]) + 1, int(spot[1]) - 1]\n",
        "print(str(desired_x[0]) + \",\" + str(desired_y[1]))\n",
        "print(str(desired_y[0]) + \",\" + str(desired_x[1]))"
      ],
      "metadata": {
        "colab": {
          "base_uri": "https://localhost:8080/"
        },
        "id": "kSxgZTGQ4Sgh",
        "outputId": "046d469d-8cab-456d-bdeb-66a8a2f2513d"
      },
      "execution_count": null,
      "outputs": [
        {
          "output_type": "stream",
          "name": "stdout",
          "text": [
            "5\n",
            "44,62\n",
            "34,69\n",
            "24,78\n",
            "42,44\n",
            "64,10\n",
            "23,9\n",
            "65,79\n"
          ]
        }
      ]
    },
    {
      "cell_type": "markdown",
      "source": [
        "Excellent! \n",
        "\n",
        "Score: 15/15\n",
        "\n",
        "Yes, there's an easier way to solve this."
      ],
      "metadata": {
        "id": "eVeRbXhR_dVs"
      }
    },
    {
      "cell_type": "code",
      "source": [
        "n = int(input())\n",
        "x, y = [], []\n",
        "for _ in range(n):\n",
        "    xspot, yspot = input().split(',')\n",
        "    x.append(int(xspot))\n",
        "    y.append(int(yspot))\n",
        "print(\"{},{}\".format(min(x)-1,min(y)-1))\n",
        "print(\"{},{}\".format(max(x)+1,max(y)+1))"
      ],
      "metadata": {
        "id": "gc2UU9hW_jXf",
        "outputId": "6db12be5-7853-4749-ebe0-c332fed9a56b",
        "colab": {
          "base_uri": "https://localhost:8080/"
        }
      },
      "execution_count": null,
      "outputs": [
        {
          "output_type": "stream",
          "name": "stdout",
          "text": [
            "5\n",
            "44,62\n",
            "34,69\n",
            "24,78\n",
            "42,44\n",
            "64,10\n",
            "23,9\n",
            "65,79\n"
          ]
        }
      ]
    },
    {
      "cell_type": "markdown",
      "source": [
        "Problem J4: Cyclic Shifts"
      ],
      "metadata": {
        "id": "utzAWZywvONh"
      }
    },
    {
      "cell_type": "code",
      "source": [
        "T = input()\n",
        "S = input()\n",
        "\n",
        "def cyclic_shift(T, S):\n",
        "  for i in range(len(S)):\n",
        "    s = S[i:] + S[0:i]\n",
        "    if s in T:\n",
        "      return \"yes\"\n",
        "  return \"no\"\n",
        "print(cyclic_shift(T, S))"
      ],
      "metadata": {
        "colab": {
          "base_uri": "https://localhost:8080/"
        },
        "id": "MlnY_VhHr3O6",
        "outputId": "3b4639bb-52f9-404e-bdb2-08d38ac61649"
      },
      "execution_count": null,
      "outputs": [
        {
          "output_type": "stream",
          "name": "stdout",
          "text": [
            "ABCDDEBCAB\n",
            "ABA\n",
            "no\n"
          ]
        }
      ]
    },
    {
      "cell_type": "markdown",
      "source": [
        "Excellent!\n",
        "\n",
        "Score: 15/15"
      ],
      "metadata": {
        "id": "YlmnGu82sB1J"
      }
    }
  ]
}