{
  "nbformat": 4,
  "nbformat_minor": 0,
  "metadata": {
    "colab": {
      "provenance": []
    },
    "kernelspec": {
      "name": "python3",
      "display_name": "Python 3"
    },
    "language_info": {
      "name": "python"
    }
  },
  "cells": [
    {
      "cell_type": "code",
      "execution_count": null,
      "metadata": {
        "colab": {
          "base_uri": "https://localhost:8080/"
        },
        "id": "4QOjv_P_61RB",
        "outputId": "54b93e6d-cbd5-4d62-ef8c-5ddd44a49130"
      },
      "outputs": [
        {
          "output_type": "execute_result",
          "data": {
            "text/plain": [
              "10"
            ]
          },
          "metadata": {},
          "execution_count": 9
        }
      ],
      "source": [
        "# Question 1\n",
        "def sum_of_integer(value):\n",
        "  if value // 10 < 1:\n",
        "    return value\n",
        "  else:\n",
        "    return value%10 + sum_of_integer((value - (value%10)) //10)\n",
        "\n",
        "sum_of_integer(1342)"
      ]
    },
    {
      "cell_type": "code",
      "source": [
        "def sum_of_integer(value):\n",
        "  if value == 0:\n",
        "    return 0\n",
        "  else:\n",
        "    return value % 10 + sum_of_integer(value//10)\n",
        "sum_of_integer(1342)"
      ],
      "metadata": {
        "colab": {
          "base_uri": "https://localhost:8080/"
        },
        "id": "KAaV5nseoCiu",
        "outputId": "655afecf-7b59-4a9a-e152-3167c1bbde9d"
      },
      "execution_count": null,
      "outputs": [
        {
          "output_type": "execute_result",
          "data": {
            "text/plain": [
              "10"
            ]
          },
          "metadata": {},
          "execution_count": 11
        }
      ]
    },
    {
      "cell_type": "code",
      "source": [
        "# Question 2\n",
        "def reverse(s):\n",
        "  if len(s) == 1:\n",
        "    print(s[0])\n",
        "  else:\n",
        "    print(s[-1], end = \"\")\n",
        "    reverse(s[:-1])\n",
        "reverse(\"abcde\")\n",
        "\n",
        "# def reverse(s):\n",
        "#   if len(s) == 1:\n",
        "#     return s\n",
        "#   else:\n",
        "#     return s[-1] + reverse(s.replace(s, s[:-1]))\n",
        "\n",
        "# reverse(\"abcde\")"
      ],
      "metadata": {
        "colab": {
          "base_uri": "https://localhost:8080/"
        },
        "id": "WUrVEwjT7TuF",
        "outputId": "5a950502-d369-4831-9626-4c9ed57fd752"
      },
      "execution_count": null,
      "outputs": [
        {
          "output_type": "stream",
          "name": "stdout",
          "text": [
            "edcba\n"
          ]
        }
      ]
    },
    {
      "cell_type": "code",
      "source": [
        "def reverse(s):\n",
        "  helper(0, s) # 0 is the index\n",
        "\n",
        "def helper(index, s):\n",
        "  if index >= len(s):\n",
        "    return\n",
        "  helper(index+1, s)\n",
        "  print(s[index], end = \"\")\n",
        "\n",
        "reverse(\"abcde\")"
      ],
      "metadata": {
        "colab": {
          "base_uri": "https://localhost:8080/"
        },
        "id": "M4ze_3S_tpeD",
        "outputId": "c6d4f288-6c1a-46c6-8fec-3ee8bbf9896d"
      },
      "execution_count": null,
      "outputs": [
        {
          "output_type": "stream",
          "name": "stdout",
          "text": [
            "edcba"
          ]
        }
      ]
    }
  ]
}