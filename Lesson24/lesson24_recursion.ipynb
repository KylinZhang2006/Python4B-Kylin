{
  "nbformat": 4,
  "nbformat_minor": 0,
  "metadata": {
    "colab": {
      "provenance": []
    },
    "kernelspec": {
      "name": "python3",
      "display_name": "Python 3"
    },
    "language_info": {
      "name": "python"
    }
  },
  "cells": [
    {
      "cell_type": "markdown",
      "source": [
        "### Recursion"
      ],
      "metadata": {
        "id": "OZcjhcnux0hL"
      }
    },
    {
      "cell_type": "markdown",
      "source": [
        "Use recursion to countdown a number to zero."
      ],
      "metadata": {
        "id": "Ezpkvy0mx4ze"
      }
    },
    {
      "cell_type": "code",
      "execution_count": null,
      "metadata": {
        "colab": {
          "base_uri": "https://localhost:8080/"
        },
        "id": "vzQTxSFExy8D",
        "outputId": "cc5c9198-9a14-4c45-9489-4000fe9a5eeb"
      },
      "outputs": [
        {
          "output_type": "stream",
          "name": "stdout",
          "text": [
            "10\n",
            "9\n",
            "8\n",
            "7\n",
            "6\n",
            "5\n",
            "4\n",
            "3\n",
            "2\n",
            "1\n",
            "0\n"
          ]
        }
      ],
      "source": [
        "def countdown(n):\n",
        "  while n >= 0:\n",
        "    print(n)\n",
        "    n -= 1\n",
        "countdown(10)"
      ]
    },
    {
      "cell_type": "code",
      "source": [
        "def countdown(n):\n",
        "  print(n)\n",
        "  if n > 0:\n",
        "    countdown(n-1)\n",
        "countdown(10)"
      ],
      "metadata": {
        "colab": {
          "base_uri": "https://localhost:8080/"
        },
        "id": "qoHRioNYytPt",
        "outputId": "fb48d61d-026d-4f61-a692-02385a7d8f4d"
      },
      "execution_count": null,
      "outputs": [
        {
          "output_type": "stream",
          "name": "stdout",
          "text": [
            "10\n",
            "9\n",
            "8\n",
            "7\n",
            "6\n",
            "5\n",
            "4\n",
            "3\n",
            "2\n",
            "1\n",
            "0\n"
          ]
        }
      ]
    },
    {
      "cell_type": "markdown",
      "source": [
        "### CCC 2020 J5"
      ],
      "metadata": {
        "id": "2O65Er7d1g2K"
      }
    },
    {
      "cell_type": "code",
      "source": [
        "M = int(input())\n",
        "N = int(input())\n",
        "lst = []\n",
        "for i in range(M):\n",
        "  s = input()\n",
        "  #list comprehension - when you want to run a for loop and store the results in a list\n",
        "  #syntax: newList = [ expression(element) for element in oldList if condition ] \n",
        "  lst.append([int(i) for i in s.split()])\n"
      ],
      "metadata": {
        "colab": {
          "base_uri": "https://localhost:8080/"
        },
        "id": "DN-Pz2ZI1jRj",
        "outputId": "672b3869-c359-486f-e909-f166df714963"
      },
      "execution_count": 6,
      "outputs": [
        {
          "name": "stdout",
          "output_type": "stream",
          "text": [
            "3\n",
            "4\n",
            "3 10 8 14\n",
            "1 11 12 12\n",
            "6 2 3 9\n"
          ]
        }
      ]
    },
    {
      "cell_type": "code",
      "source": [
        "lst"
      ],
      "metadata": {
        "colab": {
          "base_uri": "https://localhost:8080/"
        },
        "id": "As7jaVdn18hs",
        "outputId": "1d72ae0a-394d-457e-a1ee-7716cec3d3d5"
      },
      "execution_count": 7,
      "outputs": [
        {
          "output_type": "execute_result",
          "data": {
            "text/plain": [
              "[[3, 10, 8, 14], [1, 11, 12, 12], [6, 2, 3, 9]]"
            ]
          },
          "metadata": {},
          "execution_count": 7
        }
      ]
    },
    {
      "cell_type": "code",
      "source": [
        "lst[0][1] # 1st row, 2nd col"
      ],
      "metadata": {
        "colab": {
          "base_uri": "https://localhost:8080/"
        },
        "id": "A9CYryS2or_a",
        "outputId": "60e650a9-fe16-40d4-efae-54e0314edbf8"
      },
      "execution_count": 9,
      "outputs": [
        {
          "output_type": "execute_result",
          "data": {
            "text/plain": [
              "10"
            ]
          },
          "metadata": {},
          "execution_count": 9
        }
      ]
    },
    {
      "cell_type": "code",
      "source": [
        "def factor(value):# it returns the real index of the jump-to cube in the lst\n",
        "  global M\n",
        "  global N\n",
        "  result = []\n",
        "  for factor1 in range(1, int(value**0.5) + 1): ### remember!!!!\n",
        "    if value % factor1 == 0:\n",
        "      factor2 = value // factor1\n",
        "      if factor1 <= M and factor2 <= N:\n",
        "        result.append([factor1 - 1, factor2 - 1])\n",
        "      if factor1 <= N and factor2 <= M:\n",
        "        result.append([factor2 - 1, factor1 - 1])\n",
        "  return result\n",
        "factor(8)"
      ],
      "metadata": {
        "colab": {
          "base_uri": "https://localhost:8080/"
        },
        "id": "UV1zyct25x_J",
        "outputId": "45d6609d-6b26-4747-aa13-d4e7501b2ec5"
      },
      "execution_count": 10,
      "outputs": [
        {
          "output_type": "execute_result",
          "data": {
            "text/plain": [
              "[[1, 3]]"
            ]
          },
          "metadata": {},
          "execution_count": 10
        }
      ]
    },
    {
      "cell_type": "code",
      "source": [
        "# recursion\n",
        "def escape(visited,r,c):\n",
        "  global lst\n",
        "  global M\n",
        "  global N\n",
        "  # if you get the right-bottom, return True\n",
        "  if r == M - 1 and c == N - 1:\n",
        "    print(visited)\n",
        "    return True\n",
        "  val = lst[r][c]\n",
        "  next_positions = factor(val) # lots of next points\n",
        "  # then you need to decide if you can escape from next position\n",
        "  if len(next_positions) != 0:\n",
        "    for pos in next_positions:\n",
        "      if pos in visited:\n",
        "        continue\n",
        "      visited.append(pos)\n",
        "      if escape(visited,pos[0],pos[1]):\n",
        "        return True\n",
        "  return False\n",
        "\n",
        "escape([[0,0]],0,0)"
      ],
      "metadata": {
        "id": "K2S0PGqT8jKh",
        "colab": {
          "base_uri": "https://localhost:8080/"
        },
        "outputId": "31e4789f-c729-49fd-8214-b21dd9e3b6ce"
      },
      "execution_count": 19,
      "outputs": [
        {
          "output_type": "stream",
          "name": "stdout",
          "text": [
            "[[0, 0], [0, 2], [1, 3], [2, 3]]\n"
          ]
        },
        {
          "output_type": "execute_result",
          "data": {
            "text/plain": [
              "True"
            ]
          },
          "metadata": {},
          "execution_count": 19
        }
      ]
    }
  ]
}