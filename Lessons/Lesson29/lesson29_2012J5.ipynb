{
  "nbformat": 4,
  "nbformat_minor": 0,
  "metadata": {
    "colab": {
      "provenance": []
    },
    "kernelspec": {
      "name": "python3",
      "display_name": "Python 3"
    },
    "language_info": {
      "name": "python"
    }
  },
  "cells": [
    {
      "cell_type": "code",
      "source": [
        "['3','12',''] == ['3','2','1']"
      ],
      "metadata": {
        "colab": {
          "base_uri": "https://localhost:8080/"
        },
        "id": "4v5tL82j-wkq",
        "outputId": "5a52def0-0da3-42a3-8653-b514ce6722ae"
      },
      "execution_count": 10,
      "outputs": [
        {
          "output_type": "execute_result",
          "data": {
            "text/plain": [
              "False"
            ]
          },
          "metadata": {},
          "execution_count": 10
        }
      ]
    },
    {
      "cell_type": "code",
      "source": [
        "class Node:\n",
        "  def __init__(self, move, level):\n",
        "    self.move = move # ['3','12',_]\n",
        "    self.level = level\n",
        "  def __str__(self):\n",
        "    return self.move[0]+' '+self.move[1]+' '+self.move[2]"
      ],
      "metadata": {
        "id": "sMKRtNUm_tFh"
      },
      "execution_count": 23,
      "outputs": []
    },
    {
      "cell_type": "code",
      "source": [
        "def done(N,move):\n",
        "  i = 0\n",
        "  while i < N and move[i] == str(i+1):\n",
        "    i = i + 1\n",
        "  return i == N\n",
        "\n",
        "def createMove(N,oldMove, p1, p2):\n",
        "  newMove = []\n",
        "  for i in range(N):\n",
        "    newMove.append(oldMove[i]) # copy\n",
        "  \n",
        "  newMove[p2] = newMove[p1][:1] + newMove[p2]\n",
        "  newMove[p1] = newMove[p1][1:]\n",
        "\n",
        "  return newMove\n",
        "\n",
        "def inTree(tree, move):\n",
        "  for node in tree:\n",
        "    if node.move == move:\n",
        "      return True\n",
        "  return False\n",
        "\n",
        "def bfs(N,initialMove):\n",
        "  if done(N,initialMove):\n",
        "    return 0\n",
        "  else:\n",
        "    tree = []\n",
        "    level = 0 # the current level\n",
        "    tree.append(Node(initialMove, 0)) # append the root node\n",
        "    while level != len(tree): # find the logic\n",
        "      node = tree[level]\n",
        "      level += 1\n",
        "      for i in range(N):\n",
        "        # move right\n",
        "        if i != N - 1: # if it's not the right-most\n",
        "          if node.move[i][:1] < node.move[i+1][:1] or len(node.move[i+1]) == 0:   # the top-coin is smaller than the top-coin on the right\n",
        "            newMove = createMove(N, node.move, i, i+1)\n",
        "            print(newMove)\n",
        "            if not inTree(tree,newMove): \n",
        "              tree.append(Node(newMove, node.level+1))\n",
        "              if done(N,newMove):\n",
        "                return node.level+1\n",
        "        # move left\n",
        "        if i != 0:\n",
        "          if node.move[i][:1] < node.move[i-1][:1] or len(node.move[i-1]) == 0:\n",
        "            newMove = createMove(N, node.move, i, i-1)\n",
        "            print(newMove)\n",
        "            if not inTree(tree,newMove):\n",
        "              tree.append(Node(newMove,node.level+1))\n",
        "              if done(N,newMove):\n",
        "                return node.level+1\n",
        "    return 'IMPOSSIBLE'"
      ],
      "metadata": {
        "id": "87Ye3QFW3AMq"
      },
      "execution_count": 42,
      "outputs": []
    },
    {
      "cell_type": "code",
      "execution_count": 43,
      "metadata": {
        "colab": {
          "base_uri": "https://localhost:8080/"
        },
        "id": "gSxMv-hw1J7w",
        "outputId": "aa59db5d-4405-4c11-b454-bbb20e8e36b5"
      },
      "outputs": [
        {
          "output_type": "stream",
          "name": "stdout",
          "text": [
            "3\n",
            "3 2 1\n",
            "['23', '', '1']\n",
            "['3', '12', '']\n",
            "['3', '2', '1']\n",
            "['23', '', '1']\n",
            "['23', '', '1']\n",
            "['23', '1', '']\n",
            "['3', '2', '1']\n",
            "['13', '2', '']\n",
            "['3', '12', '']\n",
            "['23', '', '1']\n",
            "['123', '', '']\n",
            "['23', '1', '']\n",
            "['3', '12', '']\n",
            "['13', '', '2']\n",
            "['13', '2', '']\n",
            "['23', '1', '']\n",
            "['123', '', '']\n",
            "['123', '', '']\n",
            "['123', '', '']\n",
            "['3', '1', '2']\n",
            "['13', '', '2']\n",
            "['13', '', '2']\n",
            "['13', '2', '']\n",
            "['3', '', '12']\n",
            "['13', '', '2']\n",
            "['', '3', '12']\n",
            "['3', '', '12']\n",
            "['3', '', '12']\n",
            "['3', '1', '2']\n",
            "['', '3', '12']\n",
            "['3', '', '12']\n",
            "['', '13', '2']\n",
            "['', '13', '2']\n",
            "['', '3', '12']\n",
            "['1', '3', '2']\n",
            "['', '13', '2']\n",
            "['1', '23', '']\n",
            "['', '123', '']\n",
            "['1', '3', '2']\n",
            "['1', '23', '']\n",
            "['', '123', '']\n",
            "['', '23', '1']\n",
            "['1', '23', '']\n",
            "['', '123', '']\n",
            "['', '23', '1']\n",
            "['2', '3', '1']\n",
            "['', '123', '']\n",
            "['', '23', '1']\n",
            "['2', '13', '']\n",
            "['2', '3', '1']\n",
            "['12', '3', '']\n",
            "['2', '13', '']\n",
            "['2', '13', '']\n",
            "['12', '', '3']\n",
            "['12', '3', '']\n",
            "['2', '1', '3']\n",
            "['12', '', '3']\n",
            "['12', '', '3']\n",
            "['12', '3', '']\n",
            "['2', '', '13']\n",
            "['12', '', '3']\n",
            "['', '2', '13']\n",
            "['2', '', '13']\n",
            "['2', '', '13']\n",
            "['2', '1', '3']\n",
            "['', '2', '13']\n",
            "['2', '', '13']\n",
            "['', '12', '3']\n",
            "['', '12', '3']\n",
            "['', '2', '13']\n",
            "['1', '2', '3']\n"
          ]
        },
        {
          "output_type": "execute_result",
          "data": {
            "text/plain": [
              "20"
            ]
          },
          "metadata": {},
          "execution_count": 43
        }
      ],
      "source": [
        "N = int(input())\n",
        "initialMove = input().split()\n",
        "bfs(N, initialMove)"
      ]
    },
    {
      "cell_type": "code",
      "source": [
        "N = int(input())\n",
        "initialMove = input().split()\n",
        "bfs(N, initialMove)"
      ],
      "metadata": {
        "colab": {
          "base_uri": "https://localhost:8080/",
          "height": 122
        },
        "id": "I0yzUx2MGQCp",
        "outputId": "5ec96742-e27a-459f-ed7d-eeb279353e39"
      },
      "execution_count": 44,
      "outputs": [
        {
          "output_type": "stream",
          "name": "stdout",
          "text": [
            "2\n",
            "2 1\n",
            "['12', '']\n",
            "['2', '1']\n",
            "['12', '']\n"
          ]
        },
        {
          "output_type": "execute_result",
          "data": {
            "text/plain": [
              "'IMPOSSIBLE'"
            ],
            "application/vnd.google.colaboratory.intrinsic+json": {
              "type": "string"
            }
          },
          "metadata": {},
          "execution_count": 44
        }
      ]
    },
    {
      "cell_type": "code",
      "source": [
        "done(['3','2','1'])\n"
      ],
      "metadata": {
        "colab": {
          "base_uri": "https://localhost:8080/"
        },
        "id": "QKDadLKm2MFb",
        "outputId": "2c72bc45-0805-4c36-8a61-cd8bce931c51"
      },
      "execution_count": 4,
      "outputs": [
        {
          "output_type": "execute_result",
          "data": {
            "text/plain": [
              "False"
            ]
          },
          "metadata": {},
          "execution_count": 4
        }
      ]
    },
    {
      "cell_type": "code",
      "source": [
        "done(['1','2','3'])"
      ],
      "metadata": {
        "colab": {
          "base_uri": "https://localhost:8080/"
        },
        "id": "xRAL0ZtK2Uv6",
        "outputId": "aebfbd98-f81e-45f5-b790-d560fcd2bb27"
      },
      "execution_count": 5,
      "outputs": [
        {
          "output_type": "execute_result",
          "data": {
            "text/plain": [
              "True"
            ]
          },
          "metadata": {},
          "execution_count": 5
        }
      ]
    }
  ]
}