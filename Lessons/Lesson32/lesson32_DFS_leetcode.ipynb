{
  "nbformat": 4,
  "nbformat_minor": 0,
  "metadata": {
    "colab": {
      "provenance": []
    },
    "kernelspec": {
      "name": "python3",
      "display_name": "Python 3"
    },
    "language_info": {
      "name": "python"
    }
  },
  "cells": [
    {
      "cell_type": "markdown",
      "source": [
        "### Leetcode 111"
      ],
      "metadata": {
        "id": "c8yktV__2a5c"
      }
    },
    {
      "cell_type": "code",
      "execution_count": null,
      "metadata": {
        "id": "KTnh873v2W0D"
      },
      "outputs": [],
      "source": [
        "class Solution:\n",
        "    def minDepth(self, root):\n",
        "        \"\"\"\n",
        "        :type root: TreeNode\n",
        "        :rtype: int\n",
        "        \"\"\"\n",
        "        #PRE-ORDER\n",
        "        if not root:\n",
        "            return 0\n",
        "        if not root.left and not root.right:\n",
        "            return 1\n",
        "        \n",
        "        # left subtree\n",
        "        left = float('inf')\n",
        "        if root.left:\n",
        "            left = self.minDepth(root.left)\n",
        "\n",
        "        # right subtree\n",
        "        right = float('inf')\n",
        "        if root.right:\n",
        "            right = self.minDepth(root.right)\n",
        "        \n",
        "        return min(left,right)+1"
      ]
    },
    {
      "cell_type": "code",
      "source": [
        "# simplify the code (please memorize the ^ above one)\n",
        "class Solution:\n",
        "    def minDepth(self, root):\n",
        "        \"\"\"\n",
        "        :type root: TreeNode\n",
        "        :rtype: int\n",
        "        \"\"\"\n",
        "        # corner case\n",
        "        if not root:\n",
        "            return 0\n",
        "        if not root.left or not root.right: #one of its subtree is empty\n",
        "            return max(self.minDepth(root.left),self.minDepth(root.right)) + 1\n",
        "        else:\n",
        "            return min(self.minDepth(root.left),self.minDepth(root.right)) + 1"
      ],
      "metadata": {
        "id": "hcwN2McE2mWb"
      },
      "execution_count": null,
      "outputs": []
    },
    {
      "cell_type": "markdown",
      "source": [
        "### Leetcode 112"
      ],
      "metadata": {
        "id": "eNGT8Qhs21hd"
      }
    },
    {
      "cell_type": "code",
      "source": [
        "# DFS\n",
        "class Solution(object):\n",
        "    def hasPathSum(self, root, targetSum):\n",
        "        \"\"\"\n",
        "        :type root: TreeNode\n",
        "        :type targetSum: int\n",
        "        :rtype: bool\n",
        "        \"\"\"\n",
        "        if not root:\n",
        "            return False\n",
        "        if not root.left and not root.right and root.val == targetSum:\n",
        "            return True\n",
        "        return self.hasPathSum(root.left, targetSum-root.val) or self.hasPathSum(root.right, targetSum-root.val)"
      ],
      "metadata": {
        "id": "6dnSW8-q9Sn6"
      },
      "execution_count": null,
      "outputs": []
    },
    {
      "cell_type": "code",
      "source": [
        "# BFS\n",
        "class Solution(object):\n",
        "    def hasPathSum(self, root, targetSum):\n",
        "        \"\"\"\n",
        "        :type root: TreeNode\n",
        "        :type targetSum: int\n",
        "        :rtype: bool\n",
        "        \"\"\"\n",
        "        if not root:\n",
        "            return False\n",
        "        queue = []\n",
        "        queue.append([root,targetSum-root.val]) \n",
        "        while queue:\n",
        "            currentNode,currentSum = queue.pop(0)\n",
        "            if not currentNode.left and not currentNode.right and currentSum == 0:\n",
        "                return True\n",
        "            if currentNode.left:\n",
        "                queue.append([currentNode.left,currentSum-currentNode.left.val])\n",
        "            if currentNode.right:\n",
        "                queue.append([currentNode.right,currentSum-currentNode.right.val])\n",
        "        return False"
      ],
      "metadata": {
        "id": "oPQaAjsZ9TGe"
      },
      "execution_count": null,
      "outputs": []
    }
  ]
}