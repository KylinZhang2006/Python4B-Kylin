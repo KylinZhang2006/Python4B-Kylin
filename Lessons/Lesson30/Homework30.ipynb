{
  "nbformat": 4,
  "nbformat_minor": 0,
  "metadata": {
    "colab": {
      "provenance": []
    },
    "kernelspec": {
      "name": "python3",
      "display_name": "Python 3"
    },
    "language_info": {
      "name": "python"
    }
  },
  "cells": [
    {
      "cell_type": "markdown",
      "source": [
        "### 1. Solve the Leetcode 111 using BFS. Make sure you fully understand this question. (15)"
      ],
      "metadata": {
        "id": "W-CDzfHJr1ZP"
      }
    },
    {
      "cell_type": "code",
      "source": [
        "class TreeNode(object):\n",
        "    def __init__(self, val=0, left=None, right=None):\n",
        "        self.val = val\n",
        "        self.left = left\n",
        "        self.right = right\n",
        "# TreeNodes\n",
        "treeNode3 = TreeNode(3)\n",
        "treeNode9 = TreeNode(9)\n",
        "treeNode20 = TreeNode(20)\n",
        "treeNode15 = TreeNode(15)\n",
        "treeNode7 = TreeNode(7)\n",
        "#connect the tree\n",
        "treeNode3.left = treeNode9\n",
        "treeNode3.right = treeNode20\n",
        "treeNode20.left = treeNode15\n",
        "treeNode20.right = treeNode7"
      ],
      "metadata": {
        "id": "Zlzi9f9Xr1Er"
      },
      "execution_count": null,
      "outputs": []
    },
    {
      "cell_type": "code",
      "source": [
        "class Solution:\n",
        "  def minDepth(self, root):\n",
        "    # corner cases\n",
        "    if not root: # root is empty\n",
        "      return 0\n",
        "    if not root.left and not root.right: # there is only root:\n",
        "      return 1\n",
        "    queue = []\n",
        "    level = 0\n",
        "    queue.append(root)\n",
        "    while queue:\n",
        "      size = len(queue)\n",
        "      level += 1\n",
        "      for i in range(size):\n",
        "        current_node = queue.pop(0)\n",
        "        if current_node.left == None and current_node.right == None:\n",
        "          return level\n",
        "        else:\n",
        "          if current_node.left != None:\n",
        "            queue.append(current_node.left)\n",
        "          if current_node.right!= None:\n",
        "            queue.append(current_node.right)"
      ],
      "metadata": {
        "id": "NuzlP3WNsyn9"
      },
      "execution_count": null,
      "outputs": []
    },
    {
      "cell_type": "code",
      "source": [
        "Solution.minDepth(_,treeNode3)"
      ],
      "metadata": {
        "colab": {
          "base_uri": "https://localhost:8080/"
        },
        "id": "QCwbWCB4toZB",
        "outputId": "5944b303-6cae-48db-b590-c1ebed6590ee"
      },
      "execution_count": null,
      "outputs": [
        {
          "output_type": "execute_result",
          "data": {
            "text/plain": [
              "2"
            ]
          },
          "metadata": {},
          "execution_count": 6
        }
      ]
    },
    {
      "cell_type": "markdown",
      "source": [
        "Excellent!\n",
        "\n",
        "Score: 15/15"
      ],
      "metadata": {
        "id": "GjhBC96zCo4b"
      }
    },
    {
      "cell_type": "markdown",
      "source": [
        "### 2. Solve 2012 J5 using similar ways as leetcode111. (15)"
      ],
      "metadata": {
        "id": "9Cpj3lRzt5rQ"
      }
    },
    {
      "cell_type": "code",
      "source": [
        "class Node:\n",
        "  def __init__(self, move, level):\n",
        "    self.move = move\n",
        "    self.level = level\n",
        "  def __str__(self):\n",
        "    return self.move[0] + \" \" + self.move[1] + \" \" + self.move[2]"
      ],
      "metadata": {
        "id": "IjDiO9cmt67u"
      },
      "execution_count": null,
      "outputs": []
    },
    {
      "cell_type": "code",
      "source": [
        "def done(N, move):\n",
        "  i = 0\n",
        "  while i < N and move[i] == str(i + 1):\n",
        "    i += 1\n",
        "  return i == N\n",
        "\n",
        "def createMove(N, oldMove, p1, p2):\n",
        "  newMove = []\n",
        "  for i in range(N):\n",
        "    newMove.append(oldMove[i]) # copy\n",
        "  newMove[p2] = newMove[p1][:1] + newMove[p2]\n",
        "  newMove[p1] = newMove[p1][1:]\n",
        "  return newMove\n",
        "\n",
        "def inTree(tree, move):\n",
        "  for node in tree:\n",
        "    if node.move == move:\n",
        "      return True\n",
        "  return False\n",
        "\n",
        "def bfs(N, initialMove):\n",
        "  if done(N, initialMove):\n",
        "    return 0\n",
        "  else:\n",
        "    tree = []\n",
        "    level = 0 # the current level\n",
        "    tree.append(Node(initialMove, 0)) # append the root node\n",
        "    while level != len(tree):\n",
        "      node = tree[level]\n",
        "      level += 1\n",
        "      for i in range(N):\n",
        "        # move right\n",
        "        if i != N - 1:\n",
        "          if node.move[i][:1] < node.move[i + 1][:1] or len(node.move[i + 1]) == 0:\n",
        "            newMove = createMove(N, node.move, i, i + 1)\n",
        "            print(newMove)\n",
        "            if not inTree(tree, newMove):\n",
        "              tree.append(Node(newMove, node.level + 1))\n",
        "              if done(N, newMove):\n",
        "                return node.level + 1\n",
        "        # move left\n",
        "        if i != 0:\n",
        "          if node.move[i][:1] < node.move[i - 1][:1] or len(node.move[i - 1]) == 0:\n",
        "            newMove = createMove(N, node.move, i, i - 1)\n",
        "            print(newMove)\n",
        "            if not inTree(tree, newMove):\n",
        "              tree.append(Node(newMove, node.level + 1))\n",
        "              if done(N, newMove):\n",
        "                return node.level + 1\n",
        "    return \"IMPOSSIBLE\""
      ],
      "metadata": {
        "id": "5_8CGco2uSxe"
      },
      "execution_count": null,
      "outputs": []
    },
    {
      "cell_type": "code",
      "source": [
        "N = int(input())\n",
        "initialMove = input().split()\n",
        "bfs(N, initialMove)"
      ],
      "metadata": {
        "colab": {
          "base_uri": "https://localhost:8080/",
          "height": 125
        },
        "id": "eFXyKXDbv6bf",
        "outputId": "006a9b40-c557-4f34-b713-5835a9395330"
      },
      "execution_count": null,
      "outputs": [
        {
          "output_type": "stream",
          "name": "stdout",
          "text": [
            "2\n",
            "2 1 \n",
            "['12', '']\n",
            "['2', '1']\n",
            "['12', '']\n"
          ]
        },
        {
          "output_type": "execute_result",
          "data": {
            "text/plain": [
              "'IMPOSSIBLE'"
            ],
            "application/vnd.google.colaboratory.intrinsic+json": {
              "type": "string"
            }
          },
          "metadata": {},
          "execution_count": 20
        }
      ]
    },
    {
      "cell_type": "markdown",
      "source": [
        "Please use the *similar* way as leetcode 111."
      ],
      "metadata": {
        "id": "1Ju5vdTPCtM6"
      }
    },
    {
      "cell_type": "markdown",
      "source": [
        "### 3. Solve 2015 J4 (waiting time). (15)"
      ],
      "metadata": {
        "id": "T7F8KVfXw7Qq"
      }
    },
    {
      "cell_type": "code",
      "source": [
        "M = int(input())\n",
        "\n",
        "friend_to_time = {} # {friend: [R_time, wait_time]}\n",
        "time = -1\n",
        "for i in range(M):\n",
        "  line = input().split()\n",
        "  letter = line[0]\n",
        "  friend = int(line[1])\n",
        "  \n",
        "  if letter == \"W\": # friend is waiting time\n",
        "    time += friend - 1\n",
        "  \n",
        "  else:\n",
        "    time += 1 # Why adding 1 to the time?\n",
        "  \n",
        "  if letter != \"W\":\n",
        "    if letter == \"R\":\n",
        "      if friend in friend_to_time:\n",
        "        friend_to_time[friend][0] = time\n",
        "      else:\n",
        "        friend_to_time[friend] = [time, 0]\n",
        "    elif letter == \"S\":\n",
        "      friend_to_time[friend][1] = friend_to_time[friend][1] + (time - friend_to_time[friend][0])\n",
        "      friend_to_time[friend][0] = -1 \n",
        "  "
      ],
      "metadata": {
        "colab": {
          "base_uri": "https://localhost:8080/"
        },
        "id": "0LXZoG6OxFRp",
        "outputId": "2c627cb8-de90-40e4-b8bb-4bab464a2ecb"
      },
      "execution_count": null,
      "outputs": [
        {
          "name": "stdout",
          "output_type": "stream",
          "text": [
            "14\n",
            "R 12\n",
            "W 2\n",
            "R 23\n",
            "W 3\n",
            "R 45\n",
            "S 45\n",
            "R 45\n",
            "S 23\n",
            "R 23\n",
            "W 2\n",
            "S 23\n",
            "R 34\n",
            "S 12\n",
            "S 34\n"
          ]
        }
      ]
    },
    {
      "cell_type": "code",
      "source": [
        "friend_to_time\n",
        "# why does 45 have [7, 1] as its value. Why is the 1 not a 0, but 1?"
      ],
      "metadata": {
        "colab": {
          "base_uri": "https://localhost:8080/"
        },
        "id": "zn-DDjJ00XEj",
        "outputId": "84f6645d-ddcf-4344-e5fd-d26c89380e2b"
      },
      "execution_count": null,
      "outputs": [
        {
          "output_type": "execute_result",
          "data": {
            "text/plain": [
              "{12: [-1, 13], 23: [-1, 8], 45: [7, 1], 34: [-1, 2]}"
            ]
          },
          "metadata": {},
          "execution_count": 24
        }
      ]
    },
    {
      "cell_type": "markdown",
      "source": [
        "Comment: Because friend 45 already in the friend_to_time dict. 1 is the updated R_time. "
      ],
      "metadata": {
        "id": "O7WwsYEeCdKz"
      }
    },
    {
      "cell_type": "code",
      "source": [
        "friends = list(friend_to_time.keys())\n",
        "friends.sort()\n",
        "for friend in friends:\n",
        "  if friend_to_time[friend][0] == -1:\n",
        "    print(\"{} {}\".format(friend, friend_to_time[friend][1]))\n",
        "  else:\n",
        "    print(\"{} {}\".format(friend, -1))"
      ],
      "metadata": {
        "colab": {
          "base_uri": "https://localhost:8080/"
        },
        "id": "i8kWQgUV1hpX",
        "outputId": "6b19a384-d9cd-4412-9516-58aab6e2cf9a"
      },
      "execution_count": null,
      "outputs": [
        {
          "output_type": "stream",
          "name": "stdout",
          "text": [
            "12 13\n",
            "23 8\n",
            "34 2\n",
            "45 -1\n"
          ]
        }
      ]
    },
    {
      "cell_type": "markdown",
      "source": [
        "Excellent!\n",
        "\n",
        "Score: 15/15"
      ],
      "metadata": {
        "id": "svUJVBnBCzXi"
      }
    },
    {
      "cell_type": "markdown",
      "source": [
        "### 5. Solve 2016 J1, J2 (30)"
      ],
      "metadata": {
        "id": "6EuhAlrNrxco"
      }
    },
    {
      "cell_type": "markdown",
      "source": [
        "#### Problem J1: Tournament Selection"
      ],
      "metadata": {
        "id": "6zVvm9-gop9u"
      }
    },
    {
      "cell_type": "code",
      "execution_count": null,
      "metadata": {
        "colab": {
          "base_uri": "https://localhost:8080/"
        },
        "id": "D6T_fL72obuU",
        "outputId": "02cc74bc-dc22-446d-9500-c8f7b23509fd"
      },
      "outputs": [
        {
          "output_type": "stream",
          "name": "stdout",
          "text": [
            "L\n",
            "L\n",
            "L\n",
            "L\n",
            "L\n",
            "L\n",
            "-1\n"
          ]
        }
      ],
      "source": [
        "lst = []\n",
        "for i in range(6):\n",
        "  s = input()\n",
        "  lst.append(s)\n",
        "win = lst.count(\"W\")\n",
        "if win >= 5 and win <= 6:\n",
        "  print(1)\n",
        "elif win >= 3 and win <= 4:\n",
        "  print(2)\n",
        "elif win >= 1 and win <= 2:\n",
        "  print(1)\n",
        "else:\n",
        "  print(-1)"
      ]
    },
    {
      "cell_type": "markdown",
      "source": [
        "Excellent!\n",
        "\n",
        "Score: 15/15\n",
        "\n",
        "Another way:"
      ],
      "metadata": {
        "id": "6uzDlP0ZDSOh"
      }
    },
    {
      "cell_type": "code",
      "source": [
        "x = 0\n",
        "for i in range(6):\n",
        "    if input() == 'W': x += 1\n",
        "if x > 4: print(1)\n",
        "elif 2 < x < 5: print(2)\n",
        "elif 0 < x < 3: print(3)\n",
        "else: print(-1)"
      ],
      "metadata": {
        "id": "spZoBGBTDSgb"
      },
      "execution_count": null,
      "outputs": []
    },
    {
      "cell_type": "markdown",
      "source": [
        "#### Problem J2: Magic Squares"
      ],
      "metadata": {
        "id": "vgN8gt6Hp0ce"
      }
    },
    {
      "cell_type": "code",
      "source": [
        "lst = []\n",
        "row_sum = []\n",
        "for _ in range(4):\n",
        "  s = input()\n",
        "  row = s.split()\n",
        "  sum = 0\n",
        "  for num in row:\n",
        "    sum += int(num)\n",
        "  row_sum.append(sum)\n",
        "  lst.append(s.split())\n",
        "\n",
        "first_sum = row_sum[0]\n",
        "\n",
        "condition = True\n",
        "for sum in row_sum:\n",
        "  if first_sum != sum:\n",
        "    condition = False\n",
        "\n",
        "for i in range(4):\n",
        "  sum = 0\n",
        "  for sub_lst in lst:\n",
        "    sum += int(sub_lst[i])\n",
        "  if first_sum != sum:\n",
        "    condition = False\n",
        "\n",
        "if condition == True:\n",
        "  print(\"magic\")\n",
        "else:\n",
        "  print(\"not magic\")"
      ],
      "metadata": {
        "colab": {
          "base_uri": "https://localhost:8080/"
        },
        "id": "h2qFZVh3pz4O",
        "outputId": "f850ba5c-d1ce-4870-9d66-990723176e99"
      },
      "execution_count": null,
      "outputs": [
        {
          "output_type": "stream",
          "name": "stdout",
          "text": [
            "16 3 2 13\n",
            "5 10 11 8\n",
            "9 6 7 12\n",
            "4 15 14 1\n",
            "magic\n"
          ]
        }
      ]
    },
    {
      "cell_type": "markdown",
      "source": [
        "Excellent!\n",
        "\n",
        "Score: 15/15\n",
        "\n",
        "Another way:"
      ],
      "metadata": {
        "id": "GE7l7O7VDnUS"
      }
    },
    {
      "cell_type": "code",
      "source": [
        "i = [int(x) for x in input().split()] # remember this one-line for loop\n",
        "ii = [int(x) for x in input().split()]\n",
        "iii = [int(x) for x in input().split()]\n",
        "iv = [int(x) for x in input().split()]\n",
        "x = sum(i)\n",
        "if (x == sum(ii) and x == sum(iii) and x == sum(iv)\n",
        "    and x == (i[0] + ii[0] + iii[0] + iv[0]) and x == (i[1] + ii[1] + iii[1] + iv[1])\n",
        "        and x == (i[2] + ii[2] + iii[2] + iv[2])): print('magic')\n",
        "else: print('not magic')"
      ],
      "metadata": {
        "id": "t7Nqm35DDmnL"
      },
      "execution_count": null,
      "outputs": []
    }
  ]
}