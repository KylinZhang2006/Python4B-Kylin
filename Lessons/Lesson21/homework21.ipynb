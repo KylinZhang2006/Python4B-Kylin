{
  "nbformat": 4,
  "nbformat_minor": 0,
  "metadata": {
    "colab": {
      "provenance": []
    },
    "kernelspec": {
      "name": "python3",
      "display_name": "Python 3"
    },
    "language_info": {
      "name": "python"
    }
  },
  "cells": [
    {
      "cell_type": "markdown",
      "source": [
        "#CCC 2019 Contest Questions"
      ],
      "metadata": {
        "id": "rTFcgT4WeafY"
      }
    },
    {
      "cell_type": "markdown",
      "source": [
        "Question 1: Winning Score"
      ],
      "metadata": {
        "id": "6jsiZtVSeiY5"
      }
    },
    {
      "cell_type": "code",
      "execution_count": null,
      "metadata": {
        "colab": {
          "base_uri": "https://localhost:8080/"
        },
        "id": "kfbOQJSOeLkW",
        "outputId": "057beb02-c2f1-419e-9fea-e991b0ccc4ca"
      },
      "outputs": [
        {
          "output_type": "stream",
          "name": "stdout",
          "text": [
            "7\n",
            "3\n",
            "0\n",
            "6\n",
            "4\n",
            "1\n",
            "T\n"
          ]
        }
      ],
      "source": [
        "A = []\n",
        "count = 3\n",
        "for i in range(3):\n",
        "  s = input()\n",
        "  A.append(int(s)*count)\n",
        "  count -= 1\n",
        "\n",
        "B = []\n",
        "count = 3\n",
        "for j in range(3):\n",
        "  s = input()\n",
        "  B.append(int(s)*count)\n",
        "  count -= 1\n",
        "\n",
        "if sum(A) > sum(B):\n",
        "  print(\"A\")\n",
        "elif sum(A) == sum(B):\n",
        "  print(\"T\")\n",
        "else:\n",
        "  print(\"B\")\n"
      ]
    },
    {
      "cell_type": "markdown",
      "source": [
        "Question 2: Time to Decompress"
      ],
      "metadata": {
        "id": "eQs2FgvahX44"
      }
    },
    {
      "cell_type": "code",
      "source": [
        "lines = []\n",
        "num = int(input())\n",
        "for i in range(num):\n",
        "  s = input()\n",
        "  chars = s.split()\n",
        "  result = \"\"\n",
        "  for j in range(int(chars[0])):\n",
        "    result += chars[1]\n",
        "  lines.append(result)\n",
        "for line in lines:\n",
        "  print(line)\n",
        "\n",
        "   "
      ],
      "metadata": {
        "colab": {
          "base_uri": "https://localhost:8080/"
        },
        "id": "RjlO6VbXhcr-",
        "outputId": "f443220d-f551-46a8-cebe-5bd0d9db9093"
      },
      "execution_count": null,
      "outputs": [
        {
          "output_type": "stream",
          "name": "stdout",
          "text": [
            "4\n",
            "9 +\n",
            "3 -\n",
            "12 A\n",
            "2 X\n",
            "+++++++++\n",
            "---\n",
            "AAAAAAAAAAAA\n",
            "XX\n"
          ]
        }
      ]
    },
    {
      "cell_type": "markdown",
      "source": [
        "Question 3: Cold Compress REVERSED"
      ],
      "metadata": {
        "id": "FthRuo59ikpm"
      }
    },
    {
      "cell_type": "code",
      "source": [
        "N = int(input())\n",
        "lines = []\n",
        "\n",
        "for i in range(N):\n",
        "  line = input()\n",
        "  lines.append(line)\n",
        "\n",
        "for line in lines:\n",
        "  lst = line.split()\n",
        "  count = -1\n",
        "  result = \"\"\n",
        "  for j in range(len(lst)//2):\n",
        "    count += 1\n",
        "    num = lst[count]\n",
        "    count += 1\n",
        "    for k in range(int(num)):\n",
        "      result += lst[count]\n",
        "  print(result)"
      ],
      "metadata": {
        "colab": {
          "base_uri": "https://localhost:8080/"
        },
        "id": "2gzXwmC8iqEX",
        "outputId": "f84eb78f-2bd2-4a64-cc4d-8efbb8e5ac58"
      },
      "execution_count": null,
      "outputs": [
        {
          "output_type": "stream",
          "name": "stdout",
          "text": [
            "1\n",
            "6 7 6 . 12 T\n",
            "777777......TTTTTTTTTTTT\n"
          ]
        }
      ]
    }
  ]
}