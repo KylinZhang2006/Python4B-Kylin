{
  "nbformat": 4,
  "nbformat_minor": 0,
  "metadata": {
    "colab": {
      "provenance": []
    },
    "kernelspec": {
      "name": "python3",
      "display_name": "Python 3"
    },
    "language_info": {
      "name": "python"
    }
  },
  "cells": [
    {
      "cell_type": "markdown",
      "source": [
        "###Numpy Homework"
      ],
      "metadata": {
        "id": "EEWN8kiy30km"
      }
    },
    {
      "cell_type": "markdown",
      "source": [
        "Q1.Score: 5/5\n",
        "\n",
        "Create a all zeros array of size 10 and set it in the variable called “arr1”."
      ],
      "metadata": {
        "id": "K4T9NEVR3wUo"
      }
    },
    {
      "cell_type": "code",
      "execution_count": null,
      "metadata": {
        "id": "7VUpNvWc3tKp",
        "colab": {
          "base_uri": "https://localhost:8080/"
        },
        "outputId": "afb65ae8-debb-4936-80cd-dcdd6daff46c"
      },
      "outputs": [
        {
          "output_type": "execute_result",
          "data": {
            "text/plain": [
              "array([0, 0, 0, 0, 0, 0, 0, 0, 0, 0])"
            ]
          },
          "metadata": {},
          "execution_count": 2
        }
      ],
      "source": [
        "# Your answer\n",
        "import numpy as np\n",
        "arr1 = np.zeros(10, dtype = int)\n",
        "arr1"
      ]
    },
    {
      "cell_type": "markdown",
      "source": [
        "Score: 5\n",
        "\n",
        "Excellent!"
      ],
      "metadata": {
        "id": "kc7ElxrlEt0V"
      }
    },
    {
      "cell_type": "markdown",
      "source": [
        "Q2. Score: 5/5\n",
        "\n",
        "Create a 1D array of numbers from 0 to 9 and set it in the variable called “arr2”."
      ],
      "metadata": {
        "id": "JwDORWtB4Ft0"
      }
    },
    {
      "cell_type": "code",
      "source": [
        "# Your answer\n",
        "arr2 = np.arange(10)\n",
        "arr2"
      ],
      "metadata": {
        "id": "m1WddNDY4Ll8",
        "colab": {
          "base_uri": "https://localhost:8080/"
        },
        "outputId": "c9747a79-e6ce-476e-9265-fc85498ac5e9"
      },
      "execution_count": null,
      "outputs": [
        {
          "output_type": "execute_result",
          "data": {
            "text/plain": [
              "array([0, 1, 2, 3, 4, 5, 6, 7, 8, 9])"
            ]
          },
          "metadata": {},
          "execution_count": 7
        }
      ]
    },
    {
      "cell_type": "markdown",
      "source": [
        "Score: 5\n",
        "\n",
        "Excellent!"
      ],
      "metadata": {
        "id": "jOJR_C7QE0Kk"
      }
    },
    {
      "cell_type": "markdown",
      "source": [
        "Q3. Score: 10/10\n",
        "\n",
        "Create a 3x3x3 array with random values and set it in the variable called “arr3”.\n",
        "Print arr3.\n",
        "\n",
        "Print the value in the center of the array using indexing."
      ],
      "metadata": {
        "id": "bnFVUY0I4OMI"
      }
    },
    {
      "cell_type": "code",
      "source": [
        "# Your answer\n",
        "arr3 = np.random.random((3, 3, 3))\n",
        "arr3"
      ],
      "metadata": {
        "id": "R7w2R9vv5AQ1",
        "colab": {
          "base_uri": "https://localhost:8080/"
        },
        "outputId": "9ad7542a-9fa1-4c69-8845-b48639e49563"
      },
      "execution_count": null,
      "outputs": [
        {
          "output_type": "execute_result",
          "data": {
            "text/plain": [
              "array([[[0.01992918, 0.88387367, 0.08511999],\n",
              "        [0.27263074, 0.78033597, 0.86314222],\n",
              "        [0.07416608, 0.24453553, 0.40619319]],\n",
              "\n",
              "       [[0.27122021, 0.95391739, 0.8701483 ],\n",
              "        [0.60261041, 0.94913811, 0.50037348],\n",
              "        [0.9372712 , 0.00104931, 0.79796347]],\n",
              "\n",
              "       [[0.39108713, 0.36265735, 0.89709551],\n",
              "        [0.09444832, 0.77221188, 0.91390045],\n",
              "        [0.9883674 , 0.25247424, 0.00427166]]])"
            ]
          },
          "metadata": {},
          "execution_count": 5
        }
      ]
    },
    {
      "cell_type": "markdown",
      "source": [
        "Score: 7\n",
        "\n",
        "It should be (3,3,3)"
      ],
      "metadata": {
        "id": "GGPLiNe1E_aT"
      }
    },
    {
      "cell_type": "markdown",
      "source": [
        "### CCC Contest Questions"
      ],
      "metadata": {
        "id": "XDabLx6HIeRI"
      }
    },
    {
      "cell_type": "markdown",
      "source": [
        "Please solve the question 3 - Cold compress\n",
        "(Score: 20/20) \n",
        "\n",
        "\n",
        "(Page 7 in https://www.cemc.uwaterloo.ca/contests/computing/past_ccc_contests/2019/stage%201/juniorEF.pdf)"
      ],
      "metadata": {
        "id": "wpqVA5XnIhLM"
      }
    },
    {
      "cell_type": "code",
      "source": [
        "# Your answer\n",
        "\n",
        "# Time Consumed: 39 minutes 06 seconds\n",
        "N = int(input(\"Input N: \"))\n",
        "lines = []\n",
        "for i in range(N):\n",
        "  line = input()\n",
        "  lines.append(line)\n",
        "\n",
        "for line in lines:\n",
        "  count = 0\n",
        "  message = \"\"\n",
        "  for j in range(len(line)):\n",
        "    if j != len(line) - 1 and line[j] == line[j + 1]:\n",
        "      count += 1\n",
        "    else:\n",
        "      message += str(count + 1) + \" \" + line[j] + \" \"\n",
        "      count = 0\n",
        "  print(message.strip()) "
      ],
      "metadata": {
        "id": "3qIvoCTvIqdj",
        "colab": {
          "base_uri": "https://localhost:8080/"
        },
        "outputId": "8a633a9b-68c7-4f67-f423-ec004e8db92e"
      },
      "execution_count": null,
      "outputs": [
        {
          "output_type": "stream",
          "name": "stdout",
          "text": [
            "Input N: 1\n",
            "####____!!!!####\n",
            "4 # 4 _ 4 ! 4 #\n"
          ]
        }
      ]
    },
    {
      "cell_type": "code",
      "source": [],
      "metadata": {
        "id": "hBxoUay2pD2r"
      },
      "execution_count": null,
      "outputs": []
    },
    {
      "cell_type": "markdown",
      "source": [
        "score: 15/20\n",
        "\n",
        "You can check the special case I put above. The answer is incorrect.\n",
        "Try to come up with another way to solve this instead of using the build-in count method."
      ],
      "metadata": {
        "id": "s3F5e_qmF0Uu"
      }
    },
    {
      "cell_type": "code",
      "source": [
        "n = int(input()) \n",
        "lines = []\n",
        "\n",
        "for i in range(n):\n",
        "  line = input()\n",
        "  lines.append(line)\n",
        "\n",
        "for i in range(n):\n",
        "  # 0123456789\n",
        "  # +++===!!!!\n",
        "  # 3 + 3 = 4 !\n",
        "\n",
        "  count = 0\n",
        "  encoded_line = \"\"\n",
        "  line = lines[i] # current line needs to be encoded\n",
        "\n",
        "  for j in range(len(line)): # go through each character of the current line\n",
        "    if j != len(line) -1 and line[j] == line[j+1]: #some corner case\n",
        "      count += 1\n",
        "    else:\n",
        "      # we update the encoded_line\n",
        "      encoded_line += str(count + 1) + \" \" + line[j] + \" \"\n",
        "      count = 0\n",
        "  print(encoded_line)"
      ],
      "metadata": {
        "colab": {
          "base_uri": "https://localhost:8080/"
        },
        "id": "sCoV8jpFfr6R",
        "outputId": "950bda30-00bc-4ffe-9313-6314c4beeba4"
      },
      "execution_count": null,
      "outputs": [
        {
          "output_type": "stream",
          "name": "stdout",
          "text": [
            "1\n",
            "+++===!!!!\n",
            "3 + 3 = 4 ! \n"
          ]
        }
      ]
    }
  ]
}